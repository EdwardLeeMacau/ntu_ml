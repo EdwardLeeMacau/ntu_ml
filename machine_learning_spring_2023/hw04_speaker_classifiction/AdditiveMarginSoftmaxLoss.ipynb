{
 "cells": [
  {
   "cell_type": "code",
   "execution_count": 1,
   "id": "26fbf56f",
   "metadata": {},
   "outputs": [],
   "source": [
    "import torch\n",
    "import torch.nn as nn\n",
    "import torch.nn.functional as F\n",
    "\n",
    "\n",
    "class AdditiveMarginSoftmaxLoss(nn.Module):\n",
    "    # TODO: implement 'reduction'\n",
    "    def __init__(self, in_features, out_features, s=30.0, m=0.4):\n",
    "        \"\"\" Additive Margin softmax loss \"\"\"\n",
    "        # Notes: last layer has no bias (not shifting from origin point)\n",
    "        super(AdditiveMarginSoftmaxLoss, self).__init__()\n",
    "        self.s = s\n",
    "        self.m = m\n",
    "        self.in_features = in_features\n",
    "        self.out_features = out_features\n",
    "        self.fc = nn.Linear(in_features, out_features, bias=False)\n",
    "        \n",
    "    def forward(self, x, labels):\n",
    "        \"\"\" input shape (N, in_features) \"\"\"\n",
    "        \n",
    "        assert len(x) == len(labels)\n",
    "        assert torch.min(labels) >= 0\n",
    "        assert torch.max(labels) < self.out_features       \n",
    "       \n",
    "        # for-loop unpacks generator only.\n",
    "        #\n",
    "        # FIXME: W is not normalized actually.\n",
    "        #\n",
    "        # See discussion: \n",
    "        # https://discuss.pytorch.org/t/how-to-do-weight-normalization-in-last-classification-layer/35193/4\n",
    "        W = self.fc.weight / torch.norm(self.fc.weight, dim=1, keepdim=True)\n",
    "        \n",
    "        print(f'{self.fc.weight=}')\n",
    "        print(f'{W=}')\n",
    "\n",
    "        x = F.normalize(x, dim=1)\n",
    "        print(f'{x=}')\n",
    "\n",
    "        wf = torch.mm(W, x.transpose(0, 1)).transpose(0, 1)\n",
    "        print(f'{wf=}')\n",
    "        print(f'{wf.transpose(0, 1)[labels]=}')\n",
    "        print(f'{torch.diagonal(wf.transpose(0, 1)[labels])=}')\n",
    "\n",
    "        numerator = self.s * (torch.diagonal(wf.transpose(0, 1)[labels]) - self.m)\n",
    "        print(f'{numerator=}')\n",
    "        \n",
    "        excl = torch.cat([torch.cat((wf[i, :y], wf[i, y+1:])).unsqueeze(0) for i, y in enumerate(labels)], dim=0)\n",
    "        print(f'{excl=}')\n",
    "        \n",
    "        denominator = torch.exp(numerator) + torch.sum(torch.exp(self.s * excl), dim=1)\n",
    "        print(f'{torch.sum(torch.exp(self.s * excl), dim=1)=}')\n",
    "        print(f'{denominator=}')\n",
    "        \n",
    "        L = numerator - torch.log(denominator)\n",
    "        return -torch.mean(L)"
   ]
  },
  {
   "cell_type": "code",
   "execution_count": 3,
   "id": "49bc2dfd",
   "metadata": {},
   "outputs": [
    {
     "name": "stdout",
     "output_type": "stream",
     "text": [
      "self.fc.weight=Parameter containing:\n",
      "tensor([[-0.0043,  0.3097, -0.4752],\n",
      "        [-0.4249, -0.2224,  0.1548],\n",
      "        [-0.0114,  0.4578, -0.0512]], requires_grad=True)\n",
      "W=tensor([[-0.0076,  0.5460, -0.8377],\n",
      "        [-0.8431, -0.4413,  0.3072],\n",
      "        [-0.0248,  0.9935, -0.1112]], grad_fn=<DivBackward0>)\n",
      "x=tensor([[-0.0076,  0.5460, -0.8377]])\n",
      "wf=tensor([[ 1.0000, -0.4919,  0.6358]], grad_fn=<TransposeBackward0>)\n",
      "wf.transpose(0, 1)[labels]=tensor([[1.0000]], grad_fn=<IndexBackward0>)\n",
      "torch.diagonal(wf.transpose(0, 1)[labels])=tensor([1.0000], grad_fn=<DiagonalBackward0>)\n",
      "numerator=tensor([18.0000], grad_fn=<MulBackward0>)\n",
      "excl=tensor([[-0.4919,  0.6358]], grad_fn=<CatBackward0>)\n",
      "torch.sum(torch.exp(self.s * excl), dim=1)=tensor([1.9223e+08], grad_fn=<SumBackward1>)\n",
      "denominator=tensor([2.5789e+08], grad_fn=<AddBackward0>)\n",
      "loss(x, y).item()=1.3680419921875\n"
     ]
    }
   ],
   "source": [
    "torch.manual_seed(0)\n",
    "\n",
    "# 3-dim feature maps to one-hot vector with 3-dim\n",
    "loss = AdditiveMarginSoftmaxLoss(3, 3, m=0.4)\n",
    "\n",
    "x = loss.fc.weight[0].detach().unsqueeze(0)\n",
    "# x = torch.randn(1, 3)\n",
    "y = torch.LongTensor([0])\n",
    "\n",
    "print(f'{loss(x, y).item()=}')"
   ]
  },
  {
   "cell_type": "code",
   "execution_count": null,
   "id": "28fff0d3",
   "metadata": {},
   "outputs": [],
   "source": []
  }
 ],
 "metadata": {
  "kernelspec": {
   "display_name": "Python 3 (ipykernel)",
   "language": "python",
   "name": "python3"
  },
  "language_info": {
   "codemirror_mode": {
    "name": "ipython",
    "version": 3
   },
   "file_extension": ".py",
   "mimetype": "text/x-python",
   "name": "python",
   "nbconvert_exporter": "python",
   "pygments_lexer": "ipython3",
   "version": "3.9.16"
  }
 },
 "nbformat": 4,
 "nbformat_minor": 5
}
