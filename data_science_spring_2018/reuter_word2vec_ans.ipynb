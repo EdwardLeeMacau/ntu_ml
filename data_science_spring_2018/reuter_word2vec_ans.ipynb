{
 "cells": [
  {
   "cell_type": "markdown",
   "metadata": {},
   "source": [
    "# Wikipedia2014 + Gigaword5 and GloVe\n",
    "ref: https://nlp.stanford.edu/projects/glove/"
   ]
  },
  {
   "cell_type": "code",
   "execution_count": 1,
   "metadata": {},
   "outputs": [
    {
     "name": "stderr",
     "output_type": "stream",
     "text": [
      "/usr/local/lib/python3.5/dist-packages/h5py/__init__.py:36: FutureWarning: Conversion of the second argument of issubdtype from `float` to `np.floating` is deprecated. In future, it will be treated as `np.float64 == np.dtype(float).type`.\n",
      "  from ._conv import register_converters as _register_converters\n",
      "Using TensorFlow backend.\n"
     ]
    }
   ],
   "source": [
    "import os\n",
    "import numpy as np\n",
    "import matplotlib.pyplot as plt\n",
    "\n",
    "import tensorflow as tf\n",
    "config = tf.ConfigProto()\n",
    "config.gpu_options.allow_growth = True\n",
    "tf.Session(config = config)\n",
    "\n",
    "from keras.datasets import reuters\n",
    "from keras.utils.np_utils import to_categorical\n",
    "from keras.models import Model\n",
    "from keras.layers import Embedding, Input, Conv1D, MaxPooling1D, LSTM, Flatten, Dense, Dropout, Reshape, Bidirectional, Conv2D, MaxPool2D, Concatenate, Activation\n",
    "from keras.preprocessing.sequence import pad_sequences\n",
    "\n",
    "MAX_NB_WORDS = 10000\n",
    "MAX_SEQUENCE_LENGTH = 300\n",
    "VALIDATION_SPLIT = 0.3\n",
    "EMBEDDING_DIM = 300\n",
    "\n",
    "from gensim.test.utils import datapath, get_tmpfile\n",
    "from gensim.models import KeyedVectors\n",
    "from gensim.scripts.glove2word2vec import glove2word2vec\n",
    "\n",
    "from sklearn.decomposition import PCA"
   ]
  },
  {
   "cell_type": "code",
   "execution_count": 2,
   "metadata": {},
   "outputs": [],
   "source": [
    "glove_file = datapath('/workspace/2018_data_science/word2vec/model/glove.6B/glove.6B.300d.txt')\n",
    "tmp_file = get_tmpfile(\"word2vec.6B.300d.txt\")\n",
    "\n",
    "glove2word2vec(glove_file, tmp_file)\n",
    "model = KeyedVectors.load_word2vec_format(tmp_file)"
   ]
  },
  {
   "cell_type": "code",
   "execution_count": 3,
   "metadata": {},
   "outputs": [
    {
     "data": {
      "text/plain": [
       "(numpy.ndarray,\n",
       " (300,),\n",
       " array([ 0.25653  ,  0.66592  , -0.5313   ,  0.20342  ,  0.40049  ,\n",
       "        -0.23473  ,  0.09909  ,  0.057834 , -0.12077  , -1.1298   ,\n",
       "         0.35164  , -0.3265   , -0.66833  ,  0.18788  ,  0.22281  ,\n",
       "         0.054691 ,  0.025744 ,  0.31266  , -0.28724  ,  0.23793  ,\n",
       "        -0.040331 ,  0.32854  ,  0.22044  ,  0.45647  , -0.37563  ,\n",
       "         0.43402  ,  0.38154  , -0.35248  ,  0.19495  ,  0.4076   ,\n",
       "        -0.37865  ,  0.23548  , -0.84291  , -0.49411  ,  0.052115 ,\n",
       "        -0.16012  ,  0.64314  ,  0.30405  , -0.43855  , -0.24154  ,\n",
       "        -0.24044  , -0.23007  ,  0.1408   , -0.53307  , -0.5172   ,\n",
       "        -0.064734 , -0.12548  ,  0.078003 ,  0.36785  ,  0.24616  ,\n",
       "        -0.16876  ,  0.50944  , -0.055875 ,  0.11483  ,  0.29215  ,\n",
       "        -0.029616 ,  0.094811 ,  0.024069 , -0.63261  , -0.40383  ,\n",
       "        -0.20841  ,  0.039754 ,  0.58189  ,  0.11466  , -0.335    ,\n",
       "        -0.27225  , -0.2824   , -0.5118   ,  0.22429  ,  0.456    ,\n",
       "        -0.15358  ,  0.70428  ,  0.30294  , -0.20955  , -0.011789 ,\n",
       "         0.29492  ,  0.18952  ,  0.031591 ,  0.12141  ,  0.65948  ,\n",
       "         0.14449  , -0.17718  , -0.38307  ,  0.14447  , -0.10626  ,\n",
       "        -0.43811  ,  0.043725 ,  0.20719  , -0.52765  , -0.16038  ,\n",
       "        -0.26498  , -0.24922  ,  0.27571  ,  0.10185  , -0.002841 ,\n",
       "         0.44867  ,  0.14924  ,  0.0026418, -0.51966  , -0.30382  ,\n",
       "         0.44992  ,  0.14053  , -0.045289 ,  0.15192  , -0.03029  ,\n",
       "         0.20464  , -0.098525 ,  0.11547  ,  0.29337  ,  0.87538  ,\n",
       "         0.033805 , -0.023913 , -1.0737   ,  0.14058  ,  0.2333   ,\n",
       "         0.43979  ,  0.015073 ,  0.4834   , -0.047389 ,  0.26837  ,\n",
       "        -1.0796   ,  0.36589  , -0.059518 ,  0.4625   , -0.49777  ,\n",
       "         0.14285  , -0.49198  ,  0.52663  , -0.1024   , -0.22362  ,\n",
       "         0.6845   , -0.28364  ,  0.20222  ,  0.4528   , -0.37129  ,\n",
       "        -0.30313  ,  0.43129  , -0.16782  , -0.14972  ,  0.77987  ,\n",
       "        -0.052025 ,  0.13599  , -0.024823 , -0.66856  ,  0.15082  ,\n",
       "         0.12765  , -0.021816 ,  0.03224  , -0.22332  ,  0.021629 ,\n",
       "         0.069325 ,  0.5422   , -0.19016  , -0.30067  ,  0.17118  ,\n",
       "         0.23501  , -0.21868  ,  0.053248 , -0.23874  ,  0.072883 ,\n",
       "         0.41495  ,  0.40858  ,  0.27456  , -0.16156  ,  0.2638   ,\n",
       "         0.014453 ,  0.24392  , -0.50145  , -0.31703  ,  0.21059  ,\n",
       "        -0.045762 , -0.039115 ,  0.19433  ,  0.5992   ,  0.042563 ,\n",
       "        -0.12242  ,  0.32646  , -0.40515  ,  0.013263 , -0.56558  ,\n",
       "         0.19984  , -0.19897  , -0.49579  , -0.36991  , -0.1801   ,\n",
       "        -0.22557  ,  0.0028445, -0.25334  ,  0.55909  , -0.56835  ,\n",
       "        -0.46967  ,  0.060974 , -0.41322  , -0.24996  , -0.2846   ,\n",
       "         0.19745  , -0.099387 , -0.24678  , -0.53946  ,  0.31609  ,\n",
       "         0.77105  , -0.32183  ,  0.36139  , -0.087025 ,  0.56626  ,\n",
       "         0.76486  , -0.14512  , -0.11135  , -0.14413  ,  0.53016  ,\n",
       "         0.13376  , -0.27582  , -0.13206  , -0.65733  ,  0.058188 ,\n",
       "         0.38301  ,  0.056686 ,  0.16166  ,  0.27458  ,  0.17245  ,\n",
       "        -0.29459  ,  0.096297 , -0.50513  , -0.52786  , -0.10126  ,\n",
       "         0.16703  , -0.069054 , -0.093596 , -0.038444 ,  0.43208  ,\n",
       "         0.59946  ,  0.074329 ,  0.11863  , -0.35532  ,  0.20506  ,\n",
       "         0.20253  , -0.029247 , -0.2725   , -0.56084  ,  0.13691  ,\n",
       "        -0.39489  , -0.078846 , -0.29338  , -0.19379  , -1.5217   ,\n",
       "         0.19236  ,  0.13664  , -0.21657  ,  0.02523  ,  0.67897  ,\n",
       "        -0.33233  , -0.30611  ,  0.091359 , -0.012469 ,  0.9518   ,\n",
       "         0.75772  ,  0.27005  , -0.49594  , -0.44736  ,  0.034779 ,\n",
       "        -0.21821  , -0.44495  , -0.046993 , -0.21626  , -0.054053 ,\n",
       "         0.49918  , -0.33855  ,  0.42897  , -0.55699  ,  0.42398  ,\n",
       "        -0.065681 ,  0.24518  ,  0.0066384, -0.22098  , -0.26532  ,\n",
       "         0.49813  , -1.949    ,  0.26658  ,  0.11726  ,  0.037159 ,\n",
       "        -0.51818  , -0.14344  ,  0.0050575,  0.32357  , -0.75793  ,\n",
       "         0.12188  ,  0.34378  ,  0.015168 ,  0.20838  , -0.08412  ,\n",
       "         0.020308 , -0.51858  , -0.23014  , -0.53273  , -0.17938  ,\n",
       "        -0.14921  ,  0.2404   ,  0.22182  ,  0.68883  , -0.018991 ],\n",
       "       dtype=float32))"
      ]
     },
     "execution_count": 3,
     "metadata": {},
     "output_type": "execute_result"
    }
   ],
   "source": [
    "type(model['animal']), model['animal'].shape, model['animal']"
   ]
  },
  {
   "cell_type": "code",
   "execution_count": 4,
   "metadata": {},
   "outputs": [
    {
     "data": {
      "text/plain": [
       "[('france', 1.0),\n",
       " ('french', 0.7344760894775391),\n",
       " ('paris', 0.6580672264099121),\n",
       " ('belgium', 0.620672345161438),\n",
       " ('spain', 0.573593258857727),\n",
       " ('italy', 0.5643459558486938),\n",
       " ('germany', 0.5567397475242615),\n",
       " ('prohertrib', 0.5564222931861877),\n",
       " ('britain', 0.5553334951400757),\n",
       " ('chirac', 0.5362644195556641)]"
      ]
     },
     "execution_count": 4,
     "metadata": {},
     "output_type": "execute_result"
    }
   ],
   "source": [
    "model.similar_by_vector(model['france'], topn = 10, restrict_vocab = None)"
   ]
  },
  {
   "cell_type": "code",
   "execution_count": 5,
   "metadata": {},
   "outputs": [
    {
     "data": {
      "text/plain": [
       "[('queen', 0.6713277101516724),\n",
       " ('princess', 0.5432624220848083),\n",
       " ('throne', 0.5386104583740234),\n",
       " ('monarch', 0.5347574949264526),\n",
       " ('daughter', 0.498025119304657),\n",
       " ('mother', 0.4956442713737488),\n",
       " ('elizabeth', 0.4832652509212494),\n",
       " ('kingdom', 0.47747087478637695),\n",
       " ('prince', 0.4668239951133728),\n",
       " ('wife', 0.4647327661514282)]"
      ]
     },
     "execution_count": 5,
     "metadata": {},
     "output_type": "execute_result"
    }
   ],
   "source": [
    "model.most_similar(positive = ['woman', 'king'], negative = ['man'])"
   ]
  },
  {
   "cell_type": "code",
   "execution_count": 6,
   "metadata": {},
   "outputs": [
    {
     "data": {
      "text/plain": [
       "'cereal'"
      ]
     },
     "execution_count": 6,
     "metadata": {},
     "output_type": "execute_result"
    }
   ],
   "source": [
    "model.doesnt_match('breakfast cereal dinner lunch'.split())"
   ]
  },
  {
   "cell_type": "code",
   "execution_count": 7,
   "metadata": {},
   "outputs": [
    {
     "data": {
      "image/png": "[encoded data removed]",
      "text/plain": [
       "<Figure size 432x288 with 1 Axes>"
      ]
     },
     "metadata": {},
     "output_type": "display_data"
    }
   ],
   "source": [
    "def pca_plot(model):\n",
    "    labels = []\n",
    "    tokens = []\n",
    "\n",
    "    for word in model.vocab:\n",
    "        tokens.append(model[word])\n",
    "        labels.append(word)\n",
    "    \n",
    "    tsne_model = PCA(n_components = 2)\n",
    "    new_values = tsne_model.fit_transform(tokens)\n",
    "\n",
    "    x = []\n",
    "    y = []\n",
    "    for value in new_values:\n",
    "        x.append(value[0])\n",
    "        y.append(value[1])\n",
    "        \n",
    "    for i in range(len(x)):\n",
    "        label = labels[i]\n",
    "        if label in ['king', 'queen', 'sister', 'brother', 'niece', 'nephew', 'aunt', 'uncle', 'woman', 'man', \n",
    "                     'madam', 'sir']:\n",
    "            plt.scatter(x[i],y[i])\n",
    "            plt.annotate(label,\n",
    "                         xy = (x[i], y[i]),\n",
    "                         xytext = (5, 2),\n",
    "                         textcoords = 'offset points',\n",
    "                         ha = 'right',\n",
    "                         va = 'bottom')\n",
    "    plt.show()\n",
    "\n",
    "pca_plot(model)"
   ]
  },
  {
   "cell_type": "markdown",
   "metadata": {},
   "source": [
    "# Reuter-21578 Data set with word2vec\n",
    "Last week, you have already worked on Reuters-21578 dataset for multi-class classification. This week, you are using word2vec to classify the same dataset.\n",
    "\n",
    "In this lab, you will have to implement 3 three neural network model using keras API:\n",
    "1. Mutilayer perceptron\n",
    "2. Conv1D\n",
    "3. LSTM"
   ]
  },
  {
   "cell_type": "code",
   "execution_count": 8,
   "metadata": {},
   "outputs": [],
   "source": [
    "# this requires download from the first time\n",
    "(X_train, y_train), (X_test, y_test) = reuters.load_data(num_words = MAX_NB_WORDS, \n",
    "                                                         skip_top = 0, \n",
    "                                                         maxlen = MAX_SEQUENCE_LENGTH,\n",
    "                                                         seed = 113,\n",
    "                                                         start_char = 1, \n",
    "                                                         oov_char = 2, \n",
    "                                                         index_from = 3)\n",
    "\n",
    "y_train = to_categorical(y_train)\n",
    "y_test = to_categorical(y_test)\n",
    "\n",
    "word2index = reuters.get_word_index()\n",
    "word2index = {key : (value + 3) for (key, value) in word2index.items()}\n",
    "word2index['<PAD>'] = 0\n",
    "word2index['<START>'] = 1\n",
    "word2index['<UNK>'] = 2"
   ]
  },
  {
   "cell_type": "code",
   "execution_count": 9,
   "metadata": {},
   "outputs": [
    {
     "name": "stdout",
     "output_type": "stream",
     "text": [
      "Found 400000 word vectors.\n"
     ]
    }
   ],
   "source": [
    "embeddings_index = {}\n",
    "f = open(os.path.join('./model/glove.6B/', 'glove.6B.300d.txt'), encoding = 'utf8')\n",
    "for line in f:\n",
    "    values = line.split()\n",
    "    word = values[0]\n",
    "    coefs = np.asarray(values[1:], dtype='float32')\n",
    "    embeddings_index[word] = coefs\n",
    "f.close()\n",
    "\n",
    "print('Found %s word vectors.' % len(embeddings_index))\n",
    "\n",
    "embedding_matrix = np.zeros((len(word2index) + 1, EMBEDDING_DIM))\n",
    "for word, i in word2index.items():\n",
    "    embedding_vector = embeddings_index.get(word)\n",
    "    if embedding_vector is not None:\n",
    "        # words not found in embedding index will be all-zeros.\n",
    "        embedding_matrix[i] = embedding_vector\n",
    "\n",
    "embedding_layer = Embedding(len(word2index) + 1,\n",
    "                            EMBEDDING_DIM,\n",
    "                            weights = [embedding_matrix],\n",
    "                            input_length = MAX_SEQUENCE_LENGTH,\n",
    "                            trainable = False)"
   ]
  },
  {
   "cell_type": "code",
   "execution_count": 10,
   "metadata": {},
   "outputs": [],
   "source": [
    "X_train = pad_sequences(X_train, maxlen = MAX_SEQUENCE_LENGTH)\n",
    "X_test = pad_sequences(X_test, maxlen = MAX_SEQUENCE_LENGTH)"
   ]
  },
  {
   "cell_type": "code",
   "execution_count": 11,
   "metadata": {},
   "outputs": [
    {
     "name": "stdout",
     "output_type": "stream",
     "text": [
      "Shape of X_train tensor: (7976, 300)\n",
      "Shape of X_test tensor: (1994, 300)\n"
     ]
    }
   ],
   "source": [
    "print('Shape of X_train tensor:', X_train.shape)\n",
    "print('Shape of X_test tensor:', X_test.shape)\n",
    "\n",
    "# split the data into a training set and a validation set\n",
    "indices = np.arange(X_train.shape[0])\n",
    "np.random.shuffle(indices)\n",
    "X_train = X_train[indices]\n",
    "y_train = y_train[indices]\n",
    "nb_validation_samples = int(VALIDATION_SPLIT * X_train.shape[0])\n",
    "\n",
    "X_val = X_train[-nb_validation_samples:]\n",
    "y_val = y_train[-nb_validation_samples:]\n",
    "X_train = X_train[:-nb_validation_samples]\n",
    "y_train = y_train[:-nb_validation_samples]"
   ]
  },
  {
   "cell_type": "markdown",
   "metadata": {},
   "source": [
    "## word2vec + multiple layer perceptron"
   ]
  },
  {
   "cell_type": "code",
   "execution_count": 12,
   "metadata": {},
   "outputs": [
    {
     "name": "stdout",
     "output_type": "stream",
     "text": [
      "_________________________________________________________________\n",
      "Layer (type)                 Output Shape              Param #   \n",
      "=================================================================\n",
      "input_1 (InputLayer)         (None, 300)               0         \n",
      "_________________________________________________________________\n",
      "embedding_1 (Embedding)      (None, 300, 300)          9294900   \n",
      "_________________________________________________________________\n",
      "flatten_1 (Flatten)          (None, 90000)             0         \n",
      "_________________________________________________________________\n",
      "dense_1 (Dense)              (None, 128)               11520128  \n",
      "_________________________________________________________________\n",
      "activation_1 (Activation)    (None, 128)               0         \n",
      "_________________________________________________________________\n",
      "dense_2 (Dense)              (None, 64)                8256      \n",
      "_________________________________________________________________\n",
      "activation_2 (Activation)    (None, 64)                0         \n",
      "_________________________________________________________________\n",
      "dense_3 (Dense)              (None, 32)                2080      \n",
      "_________________________________________________________________\n",
      "activation_3 (Activation)    (None, 32)                0         \n",
      "_________________________________________________________________\n",
      "dense_4 (Dense)              (None, 46)                1518      \n",
      "_________________________________________________________________\n",
      "activation_4 (Activation)    (None, 46)                0         \n",
      "=================================================================\n",
      "Total params: 20,826,882\n",
      "Trainable params: 11,531,982\n",
      "Non-trainable params: 9,294,900\n",
      "_________________________________________________________________\n",
      "None\n",
      "Train on 5584 samples, validate on 2392 samples\n",
      "Epoch 1/20\n",
      "5584/5584 [==============================] - 1s 176us/step - loss: 2.2603 - acc: 0.5021 - val_loss: 1.6975 - val_acc: 0.6070\n",
      "Epoch 2/20\n",
      "5584/5584 [==============================] - 0s 29us/step - loss: 1.2325 - acc: 0.7085 - val_loss: 1.5083 - val_acc: 0.6777\n",
      "Epoch 3/20\n",
      "5584/5584 [==============================] - 0s 31us/step - loss: 0.7337 - acc: 0.8164 - val_loss: 1.4167 - val_acc: 0.7003\n",
      "Epoch 4/20\n",
      "5584/5584 [==============================] - 0s 30us/step - loss: 0.4590 - acc: 0.8811 - val_loss: 1.4577 - val_acc: 0.7057\n",
      "Epoch 5/20\n",
      "5584/5584 [==============================] - 0s 31us/step - loss: 0.2988 - acc: 0.9282 - val_loss: 1.5174 - val_acc: 0.7065\n",
      "Epoch 6/20\n",
      "5584/5584 [==============================] - 0s 30us/step - loss: 0.2182 - acc: 0.9542 - val_loss: 1.6141 - val_acc: 0.7023\n",
      "Epoch 7/20\n",
      "5584/5584 [==============================] - 0s 30us/step - loss: 0.1778 - acc: 0.9628 - val_loss: 1.7515 - val_acc: 0.6931\n",
      "Epoch 8/20\n",
      "5584/5584 [==============================] - 0s 32us/step - loss: 0.1490 - acc: 0.9651 - val_loss: 1.8467 - val_acc: 0.6940\n",
      "Epoch 9/20\n",
      "5584/5584 [==============================] - 0s 31us/step - loss: 0.1329 - acc: 0.9672 - val_loss: 1.7781 - val_acc: 0.6865\n",
      "Epoch 10/20\n",
      "5584/5584 [==============================] - 0s 31us/step - loss: 0.1294 - acc: 0.9687 - val_loss: 1.7551 - val_acc: 0.6952\n",
      "Epoch 11/20\n",
      "5584/5584 [==============================] - 0s 30us/step - loss: 0.1145 - acc: 0.9688 - val_loss: 1.7875 - val_acc: 0.7090\n",
      "Epoch 12/20\n",
      "5584/5584 [==============================] - 0s 29us/step - loss: 0.1109 - acc: 0.9690 - val_loss: 1.9152 - val_acc: 0.6890\n",
      "Epoch 13/20\n",
      "5584/5584 [==============================] - 0s 31us/step - loss: 0.1118 - acc: 0.9690 - val_loss: 1.7449 - val_acc: 0.6906\n",
      "Epoch 14/20\n",
      "5584/5584 [==============================] - 0s 30us/step - loss: 0.1088 - acc: 0.9672 - val_loss: 1.9812 - val_acc: 0.6944\n",
      "Epoch 15/20\n",
      "5584/5584 [==============================] - 0s 31us/step - loss: 0.0966 - acc: 0.9694 - val_loss: 1.7404 - val_acc: 0.7111\n",
      "Epoch 16/20\n",
      "5584/5584 [==============================] - 0s 30us/step - loss: 0.0862 - acc: 0.9678 - val_loss: 1.9348 - val_acc: 0.6990\n",
      "Epoch 17/20\n",
      "5584/5584 [==============================] - 0s 30us/step - loss: 0.0850 - acc: 0.9687 - val_loss: 1.8596 - val_acc: 0.7099\n",
      "Epoch 18/20\n",
      "5584/5584 [==============================] - 0s 30us/step - loss: 0.0848 - acc: 0.9692 - val_loss: 1.9553 - val_acc: 0.7048\n",
      "Epoch 19/20\n",
      "5584/5584 [==============================] - 0s 30us/step - loss: 0.0858 - acc: 0.9687 - val_loss: 1.8851 - val_acc: 0.6936\n",
      "Epoch 20/20\n",
      "5584/5584 [==============================] - 0s 29us/step - loss: 0.0863 - acc: 0.9679 - val_loss: 1.8774 - val_acc: 0.7128\n"
     ]
    },
    {
     "data": {
      "text/plain": [
       "<keras.callbacks.History at 0x7f8a181941d0>"
      ]
     },
     "execution_count": 12,
     "metadata": {},
     "output_type": "execute_result"
    }
   ],
   "source": [
    "sequence_input = Input(shape = (MAX_SEQUENCE_LENGTH,), dtype = 'int32')\n",
    "embedded_sequences = embedding_layer(sequence_input)\n",
    "\n",
    "x = Flatten()(embedded_sequences)\n",
    "x = Dense(128)(x)\n",
    "x = Activation('relu')(x)\n",
    "# x = Dropout(0.2)(x)\n",
    "x = Dense(64)(x)\n",
    "x = Activation('relu')(x)\n",
    "# x = Dropout(0.2)(x)\n",
    "x = Dense(32)(x)\n",
    "x = Activation('relu')(x)\n",
    "# x = Dropout(0.2)(x)\n",
    "x = Dense(46)(x)\n",
    "preds = Activation('softmax')(x)\n",
    "\n",
    "model = Model(sequence_input, preds)\n",
    "print(model.summary())\n",
    "model.compile(loss = 'categorical_crossentropy',\n",
    "              optimizer = 'adam',\n",
    "              metrics = ['acc'])\n",
    "\n",
    "model.fit(X_train, y_train, validation_data = (X_val, y_val),\n",
    "          epochs = 20, batch_size = 256)"
   ]
  },
  {
   "cell_type": "code",
   "execution_count": 13,
   "metadata": {},
   "outputs": [
    {
     "name": "stdout",
     "output_type": "stream",
     "text": [
      "1994/1994 [==============================] - 0s 48us/step\n"
     ]
    },
    {
     "data": {
      "text/plain": [
       "[2.102050429002691, 0.6825476429287863]"
      ]
     },
     "execution_count": 13,
     "metadata": {},
     "output_type": "execute_result"
    }
   ],
   "source": [
    "results = model.evaluate(X_test, y_test)\n",
    "results"
   ]
  },
  {
   "cell_type": "markdown",
   "metadata": {},
   "source": [
    "## word2vec + Conv1D"
   ]
  },
  {
   "cell_type": "code",
   "execution_count": 14,
   "metadata": {},
   "outputs": [
    {
     "name": "stdout",
     "output_type": "stream",
     "text": [
      "_________________________________________________________________\n",
      "Layer (type)                 Output Shape              Param #   \n",
      "=================================================================\n",
      "input_2 (InputLayer)         (None, 300)               0         \n",
      "_________________________________________________________________\n",
      "embedding_1 (Embedding)      (None, 300, 300)          9294900   \n",
      "_________________________________________________________________\n",
      "conv1d_1 (Conv1D)            (None, 296, 64)           96064     \n",
      "_________________________________________________________________\n",
      "max_pooling1d_1 (MaxPooling1 (None, 59, 64)            0         \n",
      "_________________________________________________________________\n",
      "flatten_2 (Flatten)          (None, 3776)              0         \n",
      "_________________________________________________________________\n",
      "dropout_1 (Dropout)          (None, 3776)              0         \n",
      "_________________________________________________________________\n",
      "dense_5 (Dense)              (None, 64)                241728    \n",
      "_________________________________________________________________\n",
      "dropout_2 (Dropout)          (None, 64)                0         \n",
      "_________________________________________________________________\n",
      "dense_6 (Dense)              (None, 46)                2990      \n",
      "=================================================================\n",
      "Total params: 9,635,682\n",
      "Trainable params: 340,782\n",
      "Non-trainable params: 9,294,900\n",
      "_________________________________________________________________\n",
      "None\n",
      "Train on 5584 samples, validate on 2392 samples\n",
      "Epoch 1/30\n",
      "5584/5584 [==============================] - 2s 281us/step - loss: 3.0830 - acc: 0.3770 - val_loss: 2.3445 - val_acc: 0.4143\n",
      "Epoch 2/30\n",
      "5584/5584 [==============================] - 0s 55us/step - loss: 2.0851 - acc: 0.3797 - val_loss: 1.6539 - val_acc: 0.3988\n",
      "Epoch 3/30\n",
      "5584/5584 [==============================] - 0s 53us/step - loss: 1.6751 - acc: 0.4121 - val_loss: 1.5272 - val_acc: 0.5004\n",
      "Epoch 4/30\n",
      "5584/5584 [==============================] - 0s 51us/step - loss: 1.4148 - acc: 0.5826 - val_loss: 1.2464 - val_acc: 0.6873\n",
      "Epoch 5/30\n",
      "5584/5584 [==============================] - 0s 52us/step - loss: 1.1262 - acc: 0.7090 - val_loss: 1.1071 - val_acc: 0.7345\n",
      "Epoch 6/30\n",
      "5584/5584 [==============================] - 0s 53us/step - loss: 0.9271 - acc: 0.7525 - val_loss: 1.0684 - val_acc: 0.7467\n",
      "Epoch 7/30\n",
      "5584/5584 [==============================] - 0s 54us/step - loss: 0.7675 - acc: 0.7914 - val_loss: 1.0555 - val_acc: 0.7592\n",
      "Epoch 8/30\n",
      "5584/5584 [==============================] - 0s 55us/step - loss: 0.6474 - acc: 0.8202 - val_loss: 1.0756 - val_acc: 0.7642\n",
      "Epoch 9/30\n",
      "5584/5584 [==============================] - 0s 56us/step - loss: 0.5410 - acc: 0.8533 - val_loss: 1.1702 - val_acc: 0.7571\n",
      "Epoch 10/30\n",
      "5584/5584 [==============================] - 0s 56us/step - loss: 0.4648 - acc: 0.8657 - val_loss: 1.1904 - val_acc: 0.7592\n",
      "Epoch 11/30\n",
      "5584/5584 [==============================] - 0s 55us/step - loss: 0.3960 - acc: 0.8850 - val_loss: 1.1260 - val_acc: 0.7763\n",
      "Epoch 12/30\n",
      "5584/5584 [==============================] - 0s 54us/step - loss: 0.3322 - acc: 0.9097 - val_loss: 1.1422 - val_acc: 0.7738\n",
      "Epoch 13/30\n",
      "5584/5584 [==============================] - 0s 53us/step - loss: 0.3078 - acc: 0.9140 - val_loss: 1.1965 - val_acc: 0.7709\n",
      "Epoch 14/30\n",
      "5584/5584 [==============================] - 0s 52us/step - loss: 0.2782 - acc: 0.9178 - val_loss: 1.1870 - val_acc: 0.7751\n",
      "Epoch 15/30\n",
      "5584/5584 [==============================] - 0s 53us/step - loss: 0.2578 - acc: 0.9259 - val_loss: 1.2038 - val_acc: 0.7809\n",
      "Epoch 16/30\n",
      "5584/5584 [==============================] - 0s 51us/step - loss: 0.2352 - acc: 0.9300 - val_loss: 1.2494 - val_acc: 0.7772\n",
      "Epoch 17/30\n",
      "5584/5584 [==============================] - 0s 52us/step - loss: 0.2267 - acc: 0.9352 - val_loss: 1.1740 - val_acc: 0.7730\n",
      "Epoch 18/30\n",
      "5584/5584 [==============================] - 0s 51us/step - loss: 0.2060 - acc: 0.9404 - val_loss: 1.2214 - val_acc: 0.7843\n",
      "Epoch 19/30\n",
      "5584/5584 [==============================] - 0s 52us/step - loss: 0.1741 - acc: 0.9481 - val_loss: 1.3496 - val_acc: 0.7801\n",
      "Epoch 20/30\n",
      "5584/5584 [==============================] - 0s 50us/step - loss: 0.1642 - acc: 0.9497 - val_loss: 1.3016 - val_acc: 0.7805\n",
      "Epoch 21/30\n",
      "5584/5584 [==============================] - 0s 50us/step - loss: 0.1634 - acc: 0.9486 - val_loss: 1.3331 - val_acc: 0.7818\n",
      "Epoch 22/30\n",
      "5584/5584 [==============================] - 0s 52us/step - loss: 0.1525 - acc: 0.9495 - val_loss: 1.3519 - val_acc: 0.7834\n",
      "Epoch 23/30\n",
      "5584/5584 [==============================] - 0s 51us/step - loss: 0.1469 - acc: 0.9524 - val_loss: 1.3204 - val_acc: 0.7822\n",
      "Epoch 24/30\n",
      "5584/5584 [==============================] - 0s 52us/step - loss: 0.1413 - acc: 0.9513 - val_loss: 1.2846 - val_acc: 0.7860\n",
      "Epoch 25/30\n",
      "5584/5584 [==============================] - 0s 51us/step - loss: 0.1379 - acc: 0.9522 - val_loss: 1.3382 - val_acc: 0.7864\n",
      "Epoch 26/30\n",
      "5584/5584 [==============================] - 0s 51us/step - loss: 0.1272 - acc: 0.9592 - val_loss: 1.4629 - val_acc: 0.7851\n",
      "Epoch 27/30\n",
      "5584/5584 [==============================] - 0s 54us/step - loss: 0.1204 - acc: 0.9604 - val_loss: 1.3755 - val_acc: 0.7855\n",
      "Epoch 28/30\n",
      "5584/5584 [==============================] - 0s 53us/step - loss: 0.1243 - acc: 0.9568 - val_loss: 1.4544 - val_acc: 0.7822\n",
      "Epoch 29/30\n",
      "5584/5584 [==============================] - 0s 55us/step - loss: 0.1094 - acc: 0.9604 - val_loss: 1.4368 - val_acc: 0.7872\n",
      "Epoch 30/30\n",
      "5584/5584 [==============================] - 0s 53us/step - loss: 0.1112 - acc: 0.9583 - val_loss: 1.4778 - val_acc: 0.7793\n"
     ]
    },
    {
     "data": {
      "text/plain": [
       "<keras.callbacks.History at 0x7f89b2ca5390>"
      ]
     },
     "execution_count": 14,
     "metadata": {},
     "output_type": "execute_result"
    }
   ],
   "source": [
    "sequence_input = Input(shape = (MAX_SEQUENCE_LENGTH,), dtype = 'int32')\n",
    "embedded_sequences = embedding_layer(sequence_input)\n",
    "\n",
    "x = Conv1D(64, 5, activation = 'relu')(embedded_sequences)\n",
    "x = MaxPooling1D(5)(x)\n",
    "\n",
    "x = Flatten()(x)\n",
    "x = Dropout(0.2)(x)\n",
    "x = Dense(64, activation = 'relu')(x)\n",
    "x = Dropout(0.2)(x)\n",
    "preds = Dense(46, activation = 'sigmoid')(x)\n",
    "\n",
    "model = Model(sequence_input, preds)\n",
    "print(model.summary())\n",
    "model.compile(loss = 'categorical_crossentropy',\n",
    "              optimizer = 'adam',\n",
    "              metrics = ['acc'])\n",
    "\n",
    "model.fit(X_train, y_train, validation_data = (X_val, y_val),\n",
    "          epochs = 30, batch_size = 128)"
   ]
  },
  {
   "cell_type": "code",
   "execution_count": 15,
   "metadata": {},
   "outputs": [
    {
     "name": "stdout",
     "output_type": "stream",
     "text": [
      "1994/1994 [==============================] - 0s 62us/step\n"
     ]
    },
    {
     "data": {
      "text/plain": [
       "[1.5933833050512622, 0.7472417251755266]"
      ]
     },
     "execution_count": 15,
     "metadata": {},
     "output_type": "execute_result"
    }
   ],
   "source": [
    "results = model.evaluate(X_test, y_test)\n",
    "results"
   ]
  },
  {
   "cell_type": "markdown",
   "metadata": {},
   "source": [
    "## word2vec + LSTM"
   ]
  },
  {
   "cell_type": "code",
   "execution_count": 16,
   "metadata": {},
   "outputs": [
    {
     "name": "stdout",
     "output_type": "stream",
     "text": [
      "_________________________________________________________________\n",
      "Layer (type)                 Output Shape              Param #   \n",
      "=================================================================\n",
      "input_3 (InputLayer)         (None, 300)               0         \n",
      "_________________________________________________________________\n",
      "embedding_1 (Embedding)      (None, 300, 300)          9294900   \n",
      "_________________________________________________________________\n",
      "lstm_1 (LSTM)                (None, 128)               219648    \n",
      "_________________________________________________________________\n",
      "dense_7 (Dense)              (None, 46)                5934      \n",
      "=================================================================\n",
      "Total params: 9,520,482\n",
      "Trainable params: 225,582\n",
      "Non-trainable params: 9,294,900\n",
      "_________________________________________________________________\n",
      "None\n",
      "Train on 5584 samples, validate on 2392 samples\n",
      "Epoch 1/30\n",
      "5584/5584 [==============================] - 11s 2ms/step - loss: 2.6388 - acc: 0.3730 - val_loss: 2.0681 - val_acc: 0.4741\n",
      "Epoch 2/30\n",
      "5584/5584 [==============================] - 10s 2ms/step - loss: 2.0111 - acc: 0.5016 - val_loss: 1.8530 - val_acc: 0.5305\n",
      "Epoch 3/30\n",
      "5584/5584 [==============================] - 10s 2ms/step - loss: 1.8402 - acc: 0.5253 - val_loss: 1.5745 - val_acc: 0.6041\n",
      "Epoch 4/30\n",
      "5584/5584 [==============================] - 10s 2ms/step - loss: 1.6040 - acc: 0.5963 - val_loss: 1.4745 - val_acc: 0.6104\n",
      "Epoch 5/30\n",
      "5584/5584 [==============================] - 10s 2ms/step - loss: 1.5209 - acc: 0.6227 - val_loss: 1.3778 - val_acc: 0.6593\n",
      "Epoch 6/30\n",
      "5584/5584 [==============================] - 10s 2ms/step - loss: 1.4041 - acc: 0.6508 - val_loss: 1.2635 - val_acc: 0.6781\n",
      "Epoch 7/30\n",
      "5584/5584 [==============================] - 10s 2ms/step - loss: 1.3221 - acc: 0.6746 - val_loss: 1.2022 - val_acc: 0.7044\n",
      "Epoch 8/30\n",
      "5584/5584 [==============================] - 10s 2ms/step - loss: 1.2771 - acc: 0.6884 - val_loss: 1.1708 - val_acc: 0.7174\n",
      "Epoch 9/30\n",
      "5584/5584 [==============================] - 10s 2ms/step - loss: 1.1963 - acc: 0.7086 - val_loss: 1.0900 - val_acc: 0.7362\n",
      "Epoch 10/30\n",
      "5584/5584 [==============================] - 10s 2ms/step - loss: 1.1316 - acc: 0.7233 - val_loss: 1.0475 - val_acc: 0.7471\n",
      "Epoch 11/30\n",
      "5584/5584 [==============================] - 10s 2ms/step - loss: 1.0709 - acc: 0.7443 - val_loss: 1.0004 - val_acc: 0.7663\n",
      "Epoch 12/30\n",
      "5584/5584 [==============================] - 10s 2ms/step - loss: 1.0350 - acc: 0.7516 - val_loss: 0.9773 - val_acc: 0.7684\n",
      "Epoch 13/30\n",
      "5584/5584 [==============================] - 10s 2ms/step - loss: 0.9808 - acc: 0.7625 - val_loss: 0.9253 - val_acc: 0.7784\n",
      "Epoch 14/30\n",
      "5584/5584 [==============================] - 10s 2ms/step - loss: 0.9275 - acc: 0.7731 - val_loss: 0.9004 - val_acc: 0.7847\n",
      "Epoch 15/30\n",
      "5584/5584 [==============================] - 10s 2ms/step - loss: 0.8819 - acc: 0.7864 - val_loss: 0.8691 - val_acc: 0.7943\n",
      "Epoch 16/30\n",
      "5584/5584 [==============================] - 10s 2ms/step - loss: 0.8356 - acc: 0.7958 - val_loss: 0.8484 - val_acc: 0.7985\n",
      "Epoch 17/30\n",
      "5584/5584 [==============================] - 10s 2ms/step - loss: 0.8075 - acc: 0.8027 - val_loss: 0.8284 - val_acc: 0.8073\n",
      "Epoch 18/30\n",
      "5584/5584 [==============================] - 10s 2ms/step - loss: 0.7850 - acc: 0.8093 - val_loss: 0.8011 - val_acc: 0.8098\n",
      "Epoch 19/30\n",
      "5584/5584 [==============================] - 10s 2ms/step - loss: 0.7537 - acc: 0.8148 - val_loss: 0.7879 - val_acc: 0.8102\n",
      "Epoch 20/30\n",
      "5584/5584 [==============================] - 10s 2ms/step - loss: 0.7169 - acc: 0.8261 - val_loss: 0.7797 - val_acc: 0.8156\n",
      "Epoch 21/30\n",
      "5584/5584 [==============================] - 10s 2ms/step - loss: 0.6840 - acc: 0.8281 - val_loss: 0.7452 - val_acc: 0.8282\n",
      "Epoch 22/30\n",
      "5584/5584 [==============================] - 10s 2ms/step - loss: 0.6653 - acc: 0.8406 - val_loss: 0.7278 - val_acc: 0.8315\n",
      "Epoch 23/30\n",
      "5584/5584 [==============================] - 10s 2ms/step - loss: 0.6309 - acc: 0.8490 - val_loss: 0.7169 - val_acc: 0.8324\n",
      "Epoch 24/30\n",
      "5584/5584 [==============================] - 10s 2ms/step - loss: 0.6002 - acc: 0.8496 - val_loss: 0.7042 - val_acc: 0.8403\n",
      "Epoch 25/30\n",
      "5584/5584 [==============================] - 10s 2ms/step - loss: 0.5776 - acc: 0.8607 - val_loss: 0.7058 - val_acc: 0.8386\n",
      "Epoch 26/30\n",
      "5584/5584 [==============================] - 10s 2ms/step - loss: 0.5563 - acc: 0.8655 - val_loss: 0.6903 - val_acc: 0.8436\n",
      "Epoch 27/30\n",
      "5584/5584 [==============================] - 10s 2ms/step - loss: 0.5332 - acc: 0.8693 - val_loss: 0.6813 - val_acc: 0.8495\n",
      "Epoch 28/30\n",
      "5584/5584 [==============================] - 10s 2ms/step - loss: 0.5134 - acc: 0.8759 - val_loss: 0.6864 - val_acc: 0.8462\n",
      "Epoch 29/30\n",
      "5584/5584 [==============================] - 10s 2ms/step - loss: 0.4922 - acc: 0.8825 - val_loss: 0.6782 - val_acc: 0.8516\n",
      "Epoch 30/30\n",
      "5584/5584 [==============================] - 10s 2ms/step - loss: 0.4824 - acc: 0.8802 - val_loss: 0.6770 - val_acc: 0.8495\n"
     ]
    },
    {
     "data": {
      "text/plain": [
       "<keras.callbacks.History at 0x7f89be52bd68>"
      ]
     },
     "execution_count": 16,
     "metadata": {},
     "output_type": "execute_result"
    }
   ],
   "source": [
    "sequence_input = Input(shape = (MAX_SEQUENCE_LENGTH,), dtype = 'int32')\n",
    "embedded_sequences = embedding_layer(sequence_input)\n",
    "\n",
    "units = 128\n",
    "embedded_sequences = embedding_layer(sequence_input)\n",
    "layer1 = LSTM(units,\n",
    "    dropout = 0.2,\n",
    "    recurrent_dropout = 0.2,\n",
    "    return_sequences = False)\n",
    "x = layer1(embedded_sequences)\n",
    "\n",
    "final_layer = Dense(46, activation = 'softmax')\n",
    "preds = final_layer(x)\n",
    "\n",
    "model = Model(sequence_input, preds)\n",
    "print(model.summary())\n",
    "model.compile(loss = 'categorical_crossentropy',\n",
    "              optimizer = 'adam',\n",
    "              metrics = ['acc'])\n",
    "\n",
    "model.fit(X_train, y_train, validation_data = (X_val, y_val),\n",
    "          epochs = 30, batch_size = 256)"
   ]
  },
  {
   "cell_type": "code",
   "execution_count": 17,
   "metadata": {},
   "outputs": [
    {
     "name": "stdout",
     "output_type": "stream",
     "text": [
      "1994/1994 [==============================] - 6s 3ms/step\n"
     ]
    },
    {
     "data": {
      "text/plain": [
       "[0.7196521676531288, 0.8340020060778381]"
      ]
     },
     "execution_count": 17,
     "metadata": {},
     "output_type": "execute_result"
    }
   ],
   "source": [
    "results = model.evaluate(X_test, y_test)\n",
    "results"
   ]
  }
 ],
 "metadata": {
  "kernelspec": {
   "display_name": "Python 3",
   "language": "python",
   "name": "python3"
  },
  "language_info": {
   "codemirror_mode": {
    "name": "ipython",
    "version": 3
   },
   "file_extension": ".py",
   "mimetype": "text/x-python",
   "name": "python",
   "nbconvert_exporter": "python",
   "pygments_lexer": "ipython3",
   "version": "3.5.2"
  }
 },
 "nbformat": 4,
 "nbformat_minor": 2
}
