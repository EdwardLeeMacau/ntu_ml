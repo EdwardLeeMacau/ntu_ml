{
 "cells": [
  {
   "cell_type": "markdown",
   "metadata": {},
   "source": [
    "This material is from the follwoing webpages:\n",
    "\n",
    "https://machinelearningmastery.com/machine-learning-in-python-step-by-step/\n",
    "\n",
    "https://www.kaggle.com/benhamner/python-data-visualizations"
   ]
  },
  {
   "cell_type": "markdown",
   "metadata": {},
   "source": [
    "<h2 align=\"center\">Iris Prediction</h2>\n",
    "<img align=\"center\" src=\"https://raw.githubusercontent.com/tsungnan/images/master/iris_sanguinea.jpg\" alt=\"Iris\" , width=200, height=200 >"
   ]
  },
  {
   "cell_type": "code",
   "execution_count": 1,
   "metadata": {},
   "outputs": [
    {
     "name": "stdout",
     "output_type": "stream",
     "text": [
      "Python: 2.7.12 (default, Nov 19 2016, 06:48:10) \n",
      "[GCC 5.4.0 20160609]\n",
      "scipy: 1.0.0\n",
      "numpy: 1.14.1\n",
      "matplotlib: 2.1.2\n",
      "pandas: 0.22.0\n",
      "sklearn: 0.19.1\n"
     ]
    }
   ],
   "source": [
    "# Check the versions of libraries\n",
    "\n",
    "# Python version\n",
    "import sys\n",
    "print('Python: {}'.format(sys.version))\n",
    "# scipy\n",
    "import scipy\n",
    "print('scipy: {}'.format(scipy.__version__))\n",
    "# numpy\n",
    "import numpy as np\n",
    "print('numpy: {}'.format(np.__version__))\n",
    "# matplotlib\n",
    "import matplotlib\n",
    "from matplotlib.colors import ListedColormap\n",
    "print('matplotlib: {}'.format(matplotlib.__version__))\n",
    "# pandas\n",
    "import pandas\n",
    "print('pandas: {}'.format(pandas.__version__))\n",
    "# scikit-learn\n",
    "import sklearn\n",
    "print('sklearn: {}'.format(sklearn.__version__))"
   ]
  },
  {
   "cell_type": "code",
   "execution_count": 2,
   "metadata": {},
   "outputs": [],
   "source": [
    "# Load libraries\n",
    "import pandas\n",
    "from pandas.plotting import scatter_matrix, andrews_curves, parallel_coordinates, radviz\n",
    "import matplotlib.pyplot as plt\n",
    "import seaborn as sns\n",
    "from sklearn import model_selection\n",
    "from sklearn.metrics import classification_report\n",
    "from sklearn.metrics import confusion_matrix\n",
    "from sklearn.metrics import accuracy_score\n",
    "from sklearn.linear_model import LogisticRegression\n",
    "from sklearn.tree import DecisionTreeClassifier\n",
    "from sklearn.neighbors import KNeighborsClassifier\n",
    "from sklearn.discriminant_analysis import LinearDiscriminantAnalysis\n",
    "from sklearn.naive_bayes import GaussianNB\n",
    "from sklearn.svm import SVC"
   ]
  },
  {
   "cell_type": "markdown",
   "metadata": {},
   "source": [
    "<p>For each example (i.e., flower), there are <strong>five</strong> pieces of data.</p>\n",
    "<p>Four are standard measurements of the flower's size (in centimeters), and the fifth is the species of iris.</p>\n",
    "<p>There are three species: <strong>setosa</strong>, <strong>versicolor</strong>, and <strong>virginica</strong>.</p>\n",
    "<p> Build a classifier that, given the two petal and two sepal measurements, can predict the species of an iris. Let's do a quick visualization before we start model building (always a good idea!):</p>"
   ]
  },
  {
   "cell_type": "code",
   "execution_count": 3,
   "metadata": {},
   "outputs": [],
   "source": [
    "# Load dataset\n",
    "url = \"https://archive.ics.uci.edu/ml/machine-learning-databases/iris/iris.data\"\n",
    "names = ['sepal-length', 'sepal-width', 'petal-length', 'petal-width', 'class']\n",
    "dataset = pandas.read_csv(url, names = names)"
   ]
  },
  {
   "cell_type": "code",
   "execution_count": 4,
   "metadata": {},
   "outputs": [
    {
     "name": "stdout",
     "output_type": "stream",
     "text": [
      "(150, 5)\n"
     ]
    }
   ],
   "source": [
    "# shape\n",
    "print(dataset.shape)"
   ]
  },
  {
   "cell_type": "markdown",
   "metadata": {},
   "source": [
    "<h2 align=\"center\">Iris vercicolor</h2>\n",
    "<img align=\"center\" src=\"https://raw.githubusercontent.com/tsungnan/images/master/Iris_versicolor_3.jpg\" alt=\"Iris\" , width=200, height=200 >"
   ]
  },
  {
   "cell_type": "markdown",
   "metadata": {},
   "source": [
    "<h2 align=\"center\">Iris setosa</h2>\n",
    "<img align=\"center\" src=\"https://raw.githubusercontent.com/tsungnan/images/master/Kosaciec_szczecinkowaty_Iris_setosa.jpg\" alt=\"Iris\" , width=200, height=200 >"
   ]
  },
  {
   "cell_type": "markdown",
   "metadata": {},
   "source": [
    "<h2 align=\"center\">Iris virginica</h2>\n",
    "<img align=\"center\" src=\"https://raw.githubusercontent.com/tsungnan/images/master/1024px-Iris_virginica.jpg\" alt=\"Iris\" , width=200, height=200 >"
   ]
  },
  {
   "cell_type": "code",
   "execution_count": 5,
   "metadata": {},
   "outputs": [
    {
     "data": {
      "text/html": [
       "<div>\n",
       "<style scoped>\n",
       "    .dataframe tbody tr th:only-of-type {\n",
       "        vertical-align: middle;\n",
       "    }\n",
       "\n",
       "    .dataframe tbody tr th {\n",
       "        vertical-align: top;\n",
       "    }\n",
       "\n",
       "    .dataframe thead th {\n",
       "        text-align: right;\n",
       "    }\n",
       "</style>\n",
       "<table border=\"1\" class=\"dataframe\">\n",
       "  <thead>\n",
       "    <tr style=\"text-align: right;\">\n",
       "      <th></th>\n",
       "      <th>sepal-length</th>\n",
       "      <th>sepal-width</th>\n",
       "      <th>petal-length</th>\n",
       "      <th>petal-width</th>\n",
       "      <th>class</th>\n",
       "    </tr>\n",
       "  </thead>\n",
       "  <tbody>\n",
       "    <tr>\n",
       "      <th>40</th>\n",
       "      <td>5.0</td>\n",
       "      <td>3.5</td>\n",
       "      <td>1.3</td>\n",
       "      <td>0.3</td>\n",
       "      <td>Iris-setosa</td>\n",
       "    </tr>\n",
       "    <tr>\n",
       "      <th>41</th>\n",
       "      <td>4.5</td>\n",
       "      <td>2.3</td>\n",
       "      <td>1.3</td>\n",
       "      <td>0.3</td>\n",
       "      <td>Iris-setosa</td>\n",
       "    </tr>\n",
       "    <tr>\n",
       "      <th>42</th>\n",
       "      <td>4.4</td>\n",
       "      <td>3.2</td>\n",
       "      <td>1.3</td>\n",
       "      <td>0.2</td>\n",
       "      <td>Iris-setosa</td>\n",
       "    </tr>\n",
       "    <tr>\n",
       "      <th>43</th>\n",
       "      <td>5.0</td>\n",
       "      <td>3.5</td>\n",
       "      <td>1.6</td>\n",
       "      <td>0.6</td>\n",
       "      <td>Iris-setosa</td>\n",
       "    </tr>\n",
       "    <tr>\n",
       "      <th>44</th>\n",
       "      <td>5.1</td>\n",
       "      <td>3.8</td>\n",
       "      <td>1.9</td>\n",
       "      <td>0.4</td>\n",
       "      <td>Iris-setosa</td>\n",
       "    </tr>\n",
       "  </tbody>\n",
       "</table>\n",
       "</div>"
      ],
      "text/plain": [
       "    sepal-length  sepal-width  petal-length  petal-width        class\n",
       "40           5.0          3.5           1.3          0.3  Iris-setosa\n",
       "41           4.5          2.3           1.3          0.3  Iris-setosa\n",
       "42           4.4          3.2           1.3          0.2  Iris-setosa\n",
       "43           5.0          3.5           1.6          0.6  Iris-setosa\n",
       "44           5.1          3.8           1.9          0.4  Iris-setosa"
      ]
     },
     "execution_count": 5,
     "metadata": {},
     "output_type": "execute_result"
    }
   ],
   "source": [
    "dataset[40:45]"
   ]
  },
  {
   "cell_type": "code",
   "execution_count": 6,
   "metadata": {},
   "outputs": [
    {
     "name": "stdout",
     "output_type": "stream",
     "text": [
      "     sepal-length  sepal-width  petal-length  petal-width           class\n",
      "145           6.7          3.0           5.2          2.3  Iris-virginica\n",
      "146           6.3          2.5           5.0          1.9  Iris-virginica\n",
      "147           6.5          3.0           5.2          2.0  Iris-virginica\n",
      "148           6.2          3.4           5.4          2.3  Iris-virginica\n",
      "149           5.9          3.0           5.1          1.8  Iris-virginica\n"
     ]
    }
   ],
   "source": [
    "print(dataset.tail())"
   ]
  },
  {
   "cell_type": "code",
   "execution_count": 7,
   "metadata": {},
   "outputs": [
    {
     "name": "stdout",
     "output_type": "stream",
     "text": [
      "   sepal-length  sepal-width  petal-length  petal-width        class\n",
      "0           5.1          3.5           1.4          0.2  Iris-setosa\n",
      "1           4.9          3.0           1.4          0.2  Iris-setosa\n",
      "2           4.7          3.2           1.3          0.2  Iris-setosa\n",
      "3           4.6          3.1           1.5          0.2  Iris-setosa\n",
      "4           5.0          3.6           1.4          0.2  Iris-setosa\n"
     ]
    }
   ],
   "source": [
    "# head\n",
    "print(dataset.head())"
   ]
  },
  {
   "cell_type": "code",
   "execution_count": null,
   "metadata": {},
   "outputs": [
    {
     "name": "stdout",
     "output_type": "stream",
     "text": [
      "       sepal-length  sepal-width  petal-length  petal-width\n",
      "count    150.000000   150.000000    150.000000   150.000000\n",
      "mean       5.843333     3.054000      3.758667     1.198667\n",
      "std        0.828066     0.433594      1.764420     0.763161\n",
      "min        4.300000     2.000000      1.000000     0.100000\n",
      "25%        5.100000     2.800000      1.600000     0.300000\n",
      "50%        5.800000     3.000000      4.350000     1.300000\n",
      "75%        6.400000     3.300000      5.100000     1.800000\n",
      "max        7.900000     4.400000      6.900000     2.500000\n",
      "class\n",
      "Iris-setosa        50\n",
      "Iris-versicolor    50\n",
      "Iris-virginica     50\n",
      "dtype: int64\n"
     ]
    }
   ],
   "source": [
    "# descriptions\n",
    "print(dataset.describe())\n",
    "# class distribution\n",
    "print(dataset.groupby('class').size())"
   ]
  },
  {
   "cell_type": "code",
   "execution_count": null,
   "metadata": {},
   "outputs": [
    {
     "data": {
      "text/plain": [
       "<matplotlib.axes._subplots.AxesSubplot at 0x7f1213efdcd0>"
      ]
     },
     "execution_count": 9,
     "metadata": {},
     "output_type": "execute_result"
    }
   ],
   "source": [
    "dataset.plot(kind = 'scatter', x = 'sepal-length', y = 'sepal-width')"
   ]
  },
  {
   "cell_type": "code",
   "execution_count": null,
   "metadata": {},
   "outputs": [],
   "source": [
    "# pearsonr (Pearsonr correlation coefficient, PCC, or the bivariate correlation)\n",
    "sns.jointplot(x = 'sepal-length', y = 'sepal-width', data = dataset, size = 5)"
   ]
  },
  {
   "cell_type": "code",
   "execution_count": null,
   "metadata": {},
   "outputs": [],
   "source": [
    "sns.FacetGrid(dataset, hue = 'class', size = 5).map(plt.scatter, 'sepal-length', 'sepal-width').add_legend()"
   ]
  },
  {
   "cell_type": "code",
   "execution_count": null,
   "metadata": {},
   "outputs": [],
   "source": [
    "sns.boxplot(x = 'class', y = 'petal-length', data = dataset)"
   ]
  },
  {
   "cell_type": "code",
   "execution_count": null,
   "metadata": {},
   "outputs": [],
   "source": [
    "sns.boxplot(x = 'class', y = 'petal-length', data = dataset)\n",
    "sns.stripplot(x = 'class', y = 'petal-length', data = dataset, jitter = True, edgecolor = 'gray')"
   ]
  },
  {
   "cell_type": "code",
   "execution_count": null,
   "metadata": {},
   "outputs": [],
   "source": [
    "sns.violinplot(x = 'class', y = 'petal-length', data = dataset, size = 6)"
   ]
  },
  {
   "cell_type": "code",
   "execution_count": null,
   "metadata": {},
   "outputs": [],
   "source": [
    "sns.FacetGrid(dataset, hue = 'class', size = 6).map(sns.kdeplot, 'petal-length').add_legend()"
   ]
  },
  {
   "cell_type": "code",
   "execution_count": null,
   "metadata": {},
   "outputs": [],
   "source": [
    "sns.pairplot(dataset, hue = 'class', size = 3)"
   ]
  },
  {
   "cell_type": "code",
   "execution_count": null,
   "metadata": {},
   "outputs": [],
   "source": [
    "sns.pairplot(dataset, hue = 'class', size = 3, diag_kind = 'kde')"
   ]
  },
  {
   "cell_type": "code",
   "execution_count": null,
   "metadata": {},
   "outputs": [],
   "source": [
    "dataset.boxplot(by = 'class', figsize = (12, 6))"
   ]
  },
  {
   "cell_type": "code",
   "execution_count": 19,
   "metadata": {},
   "outputs": [],
   "source": [
    "andrews_curves(dataset, 'class')"
   ]
  },
  {
   "cell_type": "code",
   "execution_count": 20,
   "metadata": {},
   "outputs": [
    {
     "data": {
      "image/png": "[encoded data removed]",
      "text/plain": [
       "<matplotlib.figure.Figure at 0x7f1379b7f710>"
      ]
     },
     "metadata": {},
     "output_type": "display_data"
    }
   ],
   "source": [
    "parallel_coordinates(dataset, 'class')"
   ]
  },
  {
   "cell_type": "code",
   "execution_count": 51,
   "metadata": {},
   "outputs": [
    {
     "data": {
      "text/plain": [
       "<matplotlib.axes._subplots.AxesSubplot at 0x7f117c069f50>"
      ]
     },
     "execution_count": 51,
     "metadata": {},
     "output_type": "execute_result"
    },
    {
     "data": {
      "image/png": "[encoded data removed]",
      "text/plain": [
       "<matplotlib.figure.Figure at 0x7f137f2a0650>"
      ]
     },
     "metadata": {},
     "output_type": "display_data"
    }
   ],
   "source": [
    "radviz(dataset, 'class')"
   ]
  },
  {
   "cell_type": "code",
   "execution_count": 22,
   "metadata": {},
   "outputs": [
    {
     "data": {
      "text/plain": [
       "sepal-length       AxesSubplot(0.125,0.536818;0.352273x0.343182)\n",
       "sepal-width     AxesSubplot(0.547727,0.536818;0.352273x0.343182)\n",
       "petal-length          AxesSubplot(0.125,0.125;0.352273x0.343182)\n",
       "petal-width        AxesSubplot(0.547727,0.125;0.352273x0.343182)\n",
       "dtype: object"
      ]
     },
     "execution_count": 22,
     "metadata": {},
     "output_type": "execute_result"
    },
    {
     "data": {
      "image/png": "[encoded data removed]",
      "text/plain": [
       "<matplotlib.figure.Figure at 0x7f1393cd23d0>"
      ]
     },
     "metadata": {},
     "output_type": "display_data"
    }
   ],
   "source": [
    "# box and whisker plots\n",
    "dataset.plot(kind='box', subplots = True, layout = (2,2), sharex = False, sharey = False)"
   ]
  },
  {
   "cell_type": "code",
   "execution_count": 23,
   "metadata": {},
   "outputs": [
    {
     "data": {
      "text/plain": [
       "array([[<matplotlib.axes._subplots.AxesSubplot object at 0x7f137fad7f50>,\n",
       "        <matplotlib.axes._subplots.AxesSubplot object at 0x7f137fa3d690>],\n",
       "       [<matplotlib.axes._subplots.AxesSubplot object at 0x7f137fa0b0d0>,\n",
       "        <matplotlib.axes._subplots.AxesSubplot object at 0x7f137f9a9610>]],\n",
       "      dtype=object)"
      ]
     },
     "execution_count": 23,
     "metadata": {},
     "output_type": "execute_result"
    },
    {
     "data": {
      "image/png": "[encoded data removed]",
      "text/plain": [
       "<matplotlib.figure.Figure at 0x7f137fc2b2d0>"
      ]
     },
     "metadata": {},
     "output_type": "display_data"
    }
   ],
   "source": [
    "# histograms\n",
    "dataset.hist()"
   ]
  },
  {
   "cell_type": "code",
   "execution_count": 24,
   "metadata": {},
   "outputs": [
    {
     "data": {
      "text/plain": [
       "array([[<matplotlib.axes._subplots.AxesSubplot object at 0x7f137f862c10>,\n",
       "        <matplotlib.axes._subplots.AxesSubplot object at 0x7f137f897490>,\n",
       "        <matplotlib.axes._subplots.AxesSubplot object at 0x7f137f856e10>,\n",
       "        <matplotlib.axes._subplots.AxesSubplot object at 0x7f137f7a4dd0>],\n",
       "       [<matplotlib.axes._subplots.AxesSubplot object at 0x7f137f76f790>,\n",
       "        <matplotlib.axes._subplots.AxesSubplot object at 0x7f137f723b10>,\n",
       "        <matplotlib.axes._subplots.AxesSubplot object at 0x7f137f6fb210>,\n",
       "        <matplotlib.axes._subplots.AxesSubplot object at 0x7f137f6bac10>],\n",
       "       [<matplotlib.axes._subplots.AxesSubplot object at 0x7f137f666290>,\n",
       "        <matplotlib.axes._subplots.AxesSubplot object at 0x7f137f64bfd0>,\n",
       "        <matplotlib.axes._subplots.AxesSubplot object at 0x7f137f614150>,\n",
       "        <matplotlib.axes._subplots.AxesSubplot object at 0x7f137f5b2a90>],\n",
       "       [<matplotlib.axes._subplots.AxesSubplot object at 0x7f137f524510>,\n",
       "        <matplotlib.axes._subplots.AxesSubplot object at 0x7f137f4e4d90>,\n",
       "        <matplotlib.axes._subplots.AxesSubplot object at 0x7f137f5123d0>,\n",
       "        <matplotlib.axes._subplots.AxesSubplot object at 0x7f137f470590>]],\n",
       "      dtype=object)"
      ]
     },
     "execution_count": 24,
     "metadata": {},
     "output_type": "execute_result"
    },
    {
     "data": {
      "image/png": "[encoded data removed]",
      "text/plain": [
       "<matplotlib.figure.Figure at 0x7f137f926d90>"
      ]
     },
     "metadata": {},
     "output_type": "display_data"
    }
   ],
   "source": [
    "# scatter plot matrix\n",
    "scatter_matrix(dataset)"
   ]
  },
  {
   "cell_type": "markdown",
   "metadata": {},
   "source": [
    "<h2>Munge and Split the Data for Training and Testing</h2>"
   ]
  },
  {
   "cell_type": "code",
   "execution_count": 25,
   "metadata": {},
   "outputs": [],
   "source": [
    "# Split-out validation dataset\n",
    "array = dataset.values\n",
    "X = array[:,0:4]\n",
    "Y = array[:,4]\n"
   ]
  },
  {
   "cell_type": "code",
   "execution_count": 26,
   "metadata": {},
   "outputs": [
    {
     "data": {
      "text/plain": [
       "(150, 5)"
      ]
     },
     "execution_count": 26,
     "metadata": {},
     "output_type": "execute_result"
    }
   ],
   "source": [
    "array.shape"
   ]
  },
  {
   "cell_type": "code",
   "execution_count": 27,
   "metadata": {},
   "outputs": [
    {
     "data": {
      "text/plain": [
       "(150, 4)"
      ]
     },
     "execution_count": 27,
     "metadata": {},
     "output_type": "execute_result"
    }
   ],
   "source": [
    "X.shape"
   ]
  },
  {
   "cell_type": "markdown",
   "metadata": {},
   "source": [
    "<p>As is standard in supervised machine learning, we'll train with some of the data, and measure the performance of our model with the remainder.</p>\n",
    "<p>This is simple to do by hand, but is also built into scikit-learn as the&nbsp;<em><strong><code>train_test_split()</code></strong></em>&nbsp;function.</p>"
   ]
  },
  {
   "cell_type": "code",
   "execution_count": 28,
   "metadata": {},
   "outputs": [],
   "source": [
    "validation_size = 0.20\n",
    "seed = 7\n",
    "X_train, X_validation, Y_train, Y_validation = model_selection.train_test_split(X, Y, test_size=validation_size, random_state=seed)"
   ]
  },
  {
   "cell_type": "code",
   "execution_count": 29,
   "metadata": {},
   "outputs": [],
   "source": [
    "# Test options and evaluation metric\n",
    "seed = 7\n",
    "scoring = 'accuracy'"
   ]
  },
  {
   "cell_type": "markdown",
   "metadata": {},
   "source": [
    "<h2>Train a Scikit-learn Classifier</h2>"
   ]
  },
  {
   "cell_type": "markdown",
   "metadata": {},
   "source": [
    "<p>We'll train a logistic regression classifier.</p>\n",
    "<p>Doing this, with built-in hyperparameter cross-validation, is one line in scikit-learn.</p>\n",
    "<p>A&nbsp;<strong><code>LogisticRegressionCV</code></strong>&nbsp;classifier has a&nbsp;<strong><code>.fit()</code>&nbsp;</strong>method that takes care of the gory numerical details of learning model parameters that best fit the training data.</p>\n",
    "<p>So that method is all we need to do:</p>"
   ]
  },
  {
   "cell_type": "code",
   "execution_count": 30,
   "metadata": {},
   "outputs": [
    {
     "data": {
      "text/plain": [
       "LogisticRegressionCV(Cs=10, class_weight=None, cv=None, dual=False,\n",
       "           fit_intercept=True, intercept_scaling=1.0, max_iter=100,\n",
       "           multi_class='ovr', n_jobs=1, penalty='l2', random_state=None,\n",
       "           refit=True, scoring=None, solver='lbfgs', tol=0.0001, verbose=0)"
      ]
     },
     "execution_count": 30,
     "metadata": {},
     "output_type": "execute_result"
    }
   ],
   "source": [
    "from sklearn.linear_model import LogisticRegressionCV\n",
    "\n",
    "lr = LogisticRegressionCV()\n",
    "lr.fit(X_train, Y_train)"
   ]
  },
  {
   "cell_type": "markdown",
   "metadata": {},
   "source": [
    "<h2>Assess the Classifier Using Accuracy</h2>"
   ]
  },
  {
   "cell_type": "markdown",
   "metadata": {},
   "source": [
    "<p>Now we can measure the fraction of the test set the trained classifier classifies correctly (i.e. accuracy).</p>"
   ]
  },
  {
   "cell_type": "code",
   "execution_count": 31,
   "metadata": {},
   "outputs": [
    {
     "name": "stdout",
     "output_type": "stream",
     "text": [
      "Accuracy = 0.93\n"
     ]
    }
   ],
   "source": [
    "print(\"Accuracy = {:.2f}\".format(lr.score(X_train, Y_train)))"
   ]
  },
  {
   "cell_type": "code",
   "execution_count": 32,
   "metadata": {},
   "outputs": [
    {
     "name": "stdout",
     "output_type": "stream",
     "text": [
      "Accuracy = 0.73\n"
     ]
    }
   ],
   "source": [
    "print(\"Accuracy = {:.2f}\".format(lr.score(X_validation, Y_validation)))"
   ]
  },
  {
   "cell_type": "markdown",
   "metadata": {},
   "source": [
    "<p id=\"id-roIQuy\"><strong>scikit-learn</strong> makes building a classifier very simple:</p>\n",
    "<ul id=\"id-e5ujTp\">\n",
    "<li id=\"id-wkTzCzTQ\">one line to instantiate the classifier</li>\n",
    "<li id=\"id-YGTgsoTw\">one line to train it</li>\n",
    "<li id=\"id-qzTQu8T5\">and one line to measure its performance</li>\n",
    "</ul>"
   ]
  },
  {
   "cell_type": "code",
   "execution_count": 33,
   "metadata": {},
   "outputs": [
    {
     "name": "stdout",
     "output_type": "stream",
     "text": [
      "LR: 0.966667 (0.040825)\n",
      "LDA: 0.975000 (0.038188)\n",
      "KNN: 0.983333 (0.033333)\n",
      "CART: 0.975000 (0.038188)\n",
      "NB: 0.975000 (0.053359)\n",
      "SVM: 0.991667 (0.025000)\n"
     ]
    }
   ],
   "source": [
    "# Spot Check Algorithms\n",
    "models = []\n",
    "models.append(('LR', LogisticRegression()))\n",
    "models.append(('LDA', LinearDiscriminantAnalysis()))\n",
    "models.append(('KNN', KNeighborsClassifier()))\n",
    "models.append(('CART', DecisionTreeClassifier()))\n",
    "models.append(('NB', GaussianNB()))\n",
    "models.append(('SVM', SVC()))\n",
    "# evaluate each model in turn\n",
    "results = []\n",
    "names = []\n",
    "for name, model in models:\n",
    "\tkfold = model_selection.KFold(n_splits=10, random_state=seed)\n",
    "\tcv_results = model_selection.cross_val_score(model, X_train, Y_train, cv=kfold, scoring=scoring)\n",
    "\tresults.append(cv_results)\n",
    "\tnames.append(name)\n",
    "\tmsg = \"%s: %f (%f)\" % (name, cv_results.mean(), cv_results.std())\n",
    "\tprint(msg)"
   ]
  },
  {
   "cell_type": "code",
   "execution_count": 34,
   "metadata": {},
   "outputs": [
    {
     "data": {
      "image/png": "[encoded data removed]",
      "text/plain": [
       "<matplotlib.figure.Figure at 0x7f137f2a0dd0>"
      ]
     },
     "metadata": {},
     "output_type": "display_data"
    }
   ],
   "source": [
    "# Compare Algorithms\n",
    "fig = plt.figure()\n",
    "fig.suptitle('Algorithm Comparison')\n",
    "ax = fig.add_subplot(111)\n",
    "plt.boxplot(results)\n",
    "ax.set_xticklabels(names)\n",
    "plt.show()"
   ]
  },
  {
   "cell_type": "code",
   "execution_count": 35,
   "metadata": {},
   "outputs": [
    {
     "name": "stdout",
     "output_type": "stream",
     "text": [
      "0.9\n",
      "[[ 7  0  0]\n",
      " [ 0 11  1]\n",
      " [ 0  2  9]]\n",
      "                 precision    recall  f1-score   support\n",
      "\n",
      "    Iris-setosa       1.00      1.00      1.00         7\n",
      "Iris-versicolor       0.85      0.92      0.88        12\n",
      " Iris-virginica       0.90      0.82      0.86        11\n",
      "\n",
      "    avg / total       0.90      0.90      0.90        30\n",
      "\n"
     ]
    }
   ],
   "source": [
    "# Make predictions on validation dataset\n",
    "knn = KNeighborsClassifier()\n",
    "knn.fit(X_train, Y_train)\n",
    "predictions = knn.predict(X_validation)\n",
    "print(accuracy_score(Y_validation, predictions))\n",
    "print(confusion_matrix(Y_validation, predictions))\n",
    "print(classification_report(Y_validation, predictions))"
   ]
  },
  {
   "cell_type": "code",
   "execution_count": 36,
   "metadata": {},
   "outputs": [],
   "source": [
    "# https://www.kaggle.com/mgabrielkerr/visualizing-knn-svm-and-xgboost-on-iris-dataset\n",
    "def plot_decision_regions(x, y, classifier, test_id = None, resolution = 0.02):\n",
    "    \n",
    "    markers = ('s', 'x', 'o', '^', 'v')\n",
    "    colors = ('red', 'blue', 'lightgreen', 'gray', 'cyan')\n",
    "    cmap = ListedColormap(colors[: len(np.unique(y))])\n",
    "    \n",
    "    x1_min, x1_max = X[:, 0].min() - 1, X[:, 0].max() + 1\n",
    "    x2_min, x2_max = X[:, 1].min() - 1, X[:, 1].max() + 1\n",
    "    xx1, xx2 = np.meshgrid(np.arange(x1_min, x1_max, resolution),\n",
    "                          np.arange(x2_min, x2_max, resolution))\n",
    "    z = classifier.predict(np.array([xx1.ravel(), xx2.ravel()]).T)\n",
    "    z = z.reshape(xx1.shape)\n",
    "    plt.contourf(xx1, xx2, z, alpha = 0.4, cmap = cmap)\n",
    "    plt.xlim(xx1.min(), xx1.max())\n",
    "    plt.ylim(xx2.min(), xx2.max())\n",
    "    \n",
    "    for idx, cl in enumerate(np.unique(y)):\n",
    "        plt.scatter(x = x[y == cl, 0], y = x[y == cl, 1],\n",
    "                   alpha = 0.8, c = cmap(idx),\n",
    "                   marker = markers[idx], label = cl)"
   ]
  },
  {
   "cell_type": "code",
   "execution_count": 37,
   "metadata": {},
   "outputs": [
    {
     "name": "stdout",
     "output_type": "stream",
     "text": [
      "0.7333333333333333\n",
      "[[6 1 0]\n",
      " [0 7 5]\n",
      " [0 2 9]]\n",
      "                 precision    recall  f1-score   support\n",
      "\n",
      "    Iris-setosa       1.00      0.86      0.92         7\n",
      "Iris-versicolor       0.70      0.58      0.64        12\n",
      " Iris-virginica       0.64      0.82      0.72        11\n",
      "\n",
      "    avg / total       0.75      0.73      0.73        30\n",
      "\n"
     ]
    }
   ],
   "source": [
    "\n",
    "# Make predictions on validation dataset\n",
    "\n",
    "\n",
    "lr = LogisticRegressionCV()\n",
    "lr.fit(X_train, Y_train)\n",
    "\n",
    "predictions = lr.predict(X_validation)\n",
    "print(accuracy_score(Y_validation, predictions))\n",
    "print(confusion_matrix(Y_validation, predictions))\n",
    "print(classification_report(Y_validation, predictions))"
   ]
  },
  {
   "cell_type": "markdown",
   "metadata": {},
   "source": [
    "<h2>Now do Something Very Similar With Keras</h2>"
   ]
  },
  {
   "cell_type": "markdown",
   "metadata": {},
   "source": [
    "<p id=\"id-roIQuy\">First a bit of data munging: scikit-learn's classifiers accept string labels, e.g.&nbsp;<code>\"setosa\"</code>. But&nbsp;<code>Keras</code>&nbsp;requires that labels be one-hot encoded.</p>\n",
    "<p>This means we need to convert data that looks like:</p>\n",
    "<p>setosa<br />versicolor<br />setosa<br />virginica<br />...</p>\n",
    "<p>&nbsp;</p>\n",
    "<p>&nbsp;</p>\n",
    "\n",
    "\n",
    "<p id=\"id-roIQuy\">to a table that looks like:</p>\n",
    "<p>&nbsp;</p>\n",
    "<p>setosa versicolor virginica<br />&nbsp; &nbsp; &nbsp; &nbsp;1&nbsp; &nbsp; &nbsp; &nbsp; &nbsp; &nbsp; &nbsp;0&nbsp; &nbsp; &nbsp; &nbsp; &nbsp; &nbsp;0<br />&nbsp; &nbsp; &nbsp; &nbsp;0&nbsp; &nbsp; &nbsp; &nbsp; &nbsp; &nbsp; &nbsp;1&nbsp; &nbsp; &nbsp; &nbsp; &nbsp; &nbsp;0<br />&nbsp; &nbsp; &nbsp; 1&nbsp; &nbsp; &nbsp; &nbsp; &nbsp; &nbsp; &nbsp; 0&nbsp; &nbsp; &nbsp; &nbsp; &nbsp; &nbsp;0<br />&nbsp; &nbsp; &nbsp; 0&nbsp; &nbsp; &nbsp; &nbsp; &nbsp; &nbsp; &nbsp; 0&nbsp; &nbsp; &nbsp; &nbsp; &nbsp; &nbsp;1</p>\n",
    "<p>&nbsp;</p>"
   ]
  },
  {
   "cell_type": "code",
   "execution_count": 38,
   "metadata": {},
   "outputs": [
    {
     "name": "stderr",
     "output_type": "stream",
     "text": [
      "/usr/local/lib/python2.7/dist-packages/h5py/__init__.py:36: FutureWarning: Conversion of the second argument of issubdtype from `float` to `np.floating` is deprecated. In future, it will be treated as `np.float64 == np.dtype(float).type`.\n",
      "  from ._conv import register_converters as _register_converters\n",
      "Using TensorFlow backend.\n"
     ]
    }
   ],
   "source": [
    "from keras.utils import np_utils\n",
    "\n",
    "def one_hot_encode_object_array(arr):\n",
    "    '''One hot encode a numpy array of objects (e.g. strings)'''\n",
    "    uniques, ids = np.unique(arr, return_inverse=True)\n",
    "    return np_utils.to_categorical(ids, len(uniques))\n",
    "\n",
    "train_y_ohe = one_hot_encode_object_array(Y_train)\n",
    "validation_y_ohe = one_hot_encode_object_array(Y_validation)"
   ]
  },
  {
   "cell_type": "code",
   "execution_count": 39,
   "metadata": {},
   "outputs": [
    {
     "data": {
      "text/plain": [
       "array([0., 0., 1.])"
      ]
     },
     "execution_count": 39,
     "metadata": {},
     "output_type": "execute_result"
    }
   ],
   "source": [
    "train_y_ohe[0]"
   ]
  },
  {
   "cell_type": "code",
   "execution_count": 40,
   "metadata": {},
   "outputs": [
    {
     "data": {
      "text/plain": [
       "'Iris-virginica'"
      ]
     },
     "execution_count": 40,
     "metadata": {},
     "output_type": "execute_result"
    }
   ],
   "source": [
    "Y_train[0]"
   ]
  },
  {
   "cell_type": "markdown",
   "metadata": {},
   "source": [
    "<h2>Build the Neural Network Model</h2>"
   ]
  },
  {
   "cell_type": "markdown",
   "metadata": {},
   "source": [
    "<p id=\"id-roIQuy\">We have four features and three classes, so the input layer must have<strong> four units</strong>, and the <strong>output layer must have three units. </strong></p>\n",
    "<p>We only have to define the hidden layers. We're only going to have one hidden layer for this project, and we'll give it 16 units.</p>"
   ]
  },
  {
   "cell_type": "code",
   "execution_count": 41,
   "metadata": {},
   "outputs": [],
   "source": [
    "from keras.models import Sequential\n",
    "from keras.layers.core import Dense, Activation\n",
    "model2 = Sequential()"
   ]
  },
  {
   "cell_type": "code",
   "execution_count": 52,
   "metadata": {},
   "outputs": [
    {
     "name": "stdout",
     "output_type": "stream",
     "text": [
      "_________________________________________________________________\n",
      "Layer (type)                 Output Shape              Param #   \n",
      "=================================================================\n",
      "dense_1 (Dense)              (None, 3)                 15        \n",
      "_________________________________________________________________\n",
      "dense_2 (Dense)              (None, 3)                 12        \n",
      "=================================================================\n",
      "Total params: 27\n",
      "Trainable params: 27\n",
      "Non-trainable params: 0\n",
      "_________________________________________________________________\n"
     ]
    }
   ],
   "source": [
    "model2.add(Dense(units = 3, input_shape = (4,), kernel_initializer = 'normal', activation = 'softmax'))\n",
    "model2.compile(optimizer = 'sgd', loss = 'categorical_crossentropy', metrics = ['accuracy'])\n",
    "model2.summary()"
   ]
  },
  {
   "cell_type": "markdown",
   "metadata": {},
   "source": [
    "<p id=\"id-roIQuy\">Training neural networks often involves the concept of \"<strong>mini-batching</strong>\", which means showing the network a subset of the data, adjusting the weights, and then showing it another subset of the data.</p>\n",
    "<p>When the network has seen all the data once, that's called an \"<strong>epoch</strong>\".</p>\n",
    "<p>Tuning the mini-batch/epoch strategy is a somewhat problem-specific issue, but in this case we'll just use a mini-batch of 1.</p>\n",
    "<p>That makes it effectively good old stochastic gradient descent, i.e. the data is shown to the network one flower at a time, and the weights adjusted immediately.</p>"
   ]
  },
  {
   "cell_type": "code",
   "execution_count": 43,
   "metadata": {},
   "outputs": [
    {
     "name": "stdout",
     "output_type": "stream",
     "text": [
      "Epoch 1/100\n",
      "120/120 [==============================] - 2s 20ms/step - loss: 0.8864 - acc: 0.6083\n",
      "Epoch 2/100\n",
      "120/120 [==============================] - 0s 2ms/step - loss: 0.6241 - acc: 0.7917\n",
      "Epoch 3/100\n",
      "120/120 [==============================] - 0s 2ms/step - loss: 0.5645 - acc: 0.7667\n",
      "Epoch 4/100\n",
      "120/120 [==============================] - 0s 2ms/step - loss: 0.4983 - acc: 0.7500\n",
      "Epoch 5/100\n",
      "120/120 [==============================] - 0s 2ms/step - loss: 0.4698 - acc: 0.7833\n",
      "Epoch 6/100\n",
      "120/120 [==============================] - 0s 2ms/step - loss: 0.4393 - acc: 0.7833\n",
      "Epoch 7/100\n",
      "120/120 [==============================] - 0s 2ms/step - loss: 0.4089 - acc: 0.8000\n",
      "Epoch 8/100\n",
      "120/120 [==============================] - 0s 2ms/step - loss: 0.4025 - acc: 0.8417\n",
      "Epoch 9/100\n",
      "120/120 [==============================] - 0s 2ms/step - loss: 0.3788 - acc: 0.8417\n",
      "Epoch 10/100\n",
      "120/120 [==============================] - 0s 2ms/step - loss: 0.3589 - acc: 0.8750\n",
      "Epoch 11/100\n",
      "120/120 [==============================] - 0s 2ms/step - loss: 0.3409 - acc: 0.8667\n",
      "Epoch 12/100\n",
      "120/120 [==============================] - 0s 2ms/step - loss: 0.3196 - acc: 0.8833\n",
      "Epoch 13/100\n",
      "120/120 [==============================] - 0s 2ms/step - loss: 0.3148 - acc: 0.9083\n",
      "Epoch 14/100\n",
      "120/120 [==============================] - 0s 2ms/step - loss: 0.2963 - acc: 0.8917\n",
      "Epoch 15/100\n",
      "120/120 [==============================] - 0s 2ms/step - loss: 0.2958 - acc: 0.9417\n",
      "Epoch 16/100\n",
      "120/120 [==============================] - 0s 2ms/step - loss: 0.2790 - acc: 0.9333\n",
      "Epoch 17/100\n",
      "120/120 [==============================] - 0s 2ms/step - loss: 0.2728 - acc: 0.9083\n",
      "Epoch 18/100\n",
      "120/120 [==============================] - 0s 2ms/step - loss: 0.2553 - acc: 0.9250\n",
      "Epoch 19/100\n",
      "120/120 [==============================] - 0s 2ms/step - loss: 0.2625 - acc: 0.9500\n",
      "Epoch 20/100\n",
      "120/120 [==============================] - 0s 2ms/step - loss: 0.2504 - acc: 0.9333\n",
      "Epoch 21/100\n",
      "120/120 [==============================] - 0s 2ms/step - loss: 0.2421 - acc: 0.9500\n",
      "Epoch 22/100\n",
      "120/120 [==============================] - 0s 2ms/step - loss: 0.2376 - acc: 0.9333\n",
      "Epoch 23/100\n",
      "120/120 [==============================] - 0s 2ms/step - loss: 0.2416 - acc: 0.9500\n",
      "Epoch 24/100\n",
      "120/120 [==============================] - 0s 2ms/step - loss: 0.2349 - acc: 0.9250\n",
      "Epoch 25/100\n",
      "120/120 [==============================] - 0s 2ms/step - loss: 0.2129 - acc: 0.9583\n",
      "Epoch 26/100\n",
      "120/120 [==============================] - 0s 2ms/step - loss: 0.2224 - acc: 0.9250\n",
      "Epoch 27/100\n",
      "120/120 [==============================] - 0s 2ms/step - loss: 0.2083 - acc: 0.9667\n",
      "Epoch 28/100\n",
      "120/120 [==============================] - 0s 2ms/step - loss: 0.2079 - acc: 0.9750\n",
      "Epoch 29/100\n",
      "120/120 [==============================] - 0s 2ms/step - loss: 0.2120 - acc: 0.9500\n",
      "Epoch 30/100\n",
      "120/120 [==============================] - 0s 2ms/step - loss: 0.2002 - acc: 0.9583\n",
      "Epoch 31/100\n",
      "120/120 [==============================] - 0s 2ms/step - loss: 0.1971 - acc: 0.9500\n",
      "Epoch 32/100\n",
      "120/120 [==============================] - 0s 2ms/step - loss: 0.1972 - acc: 0.9417\n",
      "Epoch 33/100\n",
      "120/120 [==============================] - 0s 2ms/step - loss: 0.1917 - acc: 0.9667\n",
      "Epoch 34/100\n",
      "120/120 [==============================] - 0s 2ms/step - loss: 0.1886 - acc: 0.9667\n",
      "Epoch 35/100\n",
      "120/120 [==============================] - 0s 2ms/step - loss: 0.1852 - acc: 0.9583\n",
      "Epoch 36/100\n",
      "120/120 [==============================] - 0s 2ms/step - loss: 0.1799 - acc: 0.9667\n",
      "Epoch 37/100\n",
      "120/120 [==============================] - 0s 2ms/step - loss: 0.1807 - acc: 0.9667\n",
      "Epoch 38/100\n",
      "120/120 [==============================] - 0s 2ms/step - loss: 0.1775 - acc: 0.9750\n",
      "Epoch 39/100\n",
      "120/120 [==============================] - 0s 2ms/step - loss: 0.1759 - acc: 0.9667\n",
      "Epoch 40/100\n",
      "120/120 [==============================] - 0s 2ms/step - loss: 0.1729 - acc: 0.9750\n",
      "Epoch 41/100\n",
      "120/120 [==============================] - ETA: 0s - loss: 0.1681 - acc: 0.948 - 0s 2ms/step - loss: 0.1725 - acc: 0.9500\n",
      "Epoch 42/100\n",
      "120/120 [==============================] - 0s 2ms/step - loss: 0.1671 - acc: 0.9583\n",
      "Epoch 43/100\n",
      "120/120 [==============================] - 0s 2ms/step - loss: 0.1625 - acc: 0.9583\n",
      "Epoch 44/100\n",
      "120/120 [==============================] - 0s 2ms/step - loss: 0.1662 - acc: 0.9750\n",
      "Epoch 45/100\n",
      "120/120 [==============================] - 0s 2ms/step - loss: 0.1453 - acc: 0.9667\n",
      "Epoch 46/100\n",
      "120/120 [==============================] - 0s 2ms/step - loss: 0.1591 - acc: 0.9583\n",
      "Epoch 47/100\n",
      "120/120 [==============================] - 0s 2ms/step - loss: 0.1595 - acc: 0.9833\n",
      "Epoch 48/100\n",
      "120/120 [==============================] - 0s 2ms/step - loss: 0.1518 - acc: 0.9667\n",
      "Epoch 49/100\n",
      "120/120 [==============================] - 0s 2ms/step - loss: 0.1571 - acc: 0.9667\n",
      "Epoch 50/100\n",
      "120/120 [==============================] - 0s 2ms/step - loss: 0.1545 - acc: 0.9750\n",
      "Epoch 51/100\n",
      "120/120 [==============================] - 0s 2ms/step - loss: 0.1488 - acc: 0.9750\n",
      "Epoch 52/100\n",
      "120/120 [==============================] - 0s 2ms/step - loss: 0.1546 - acc: 0.9833\n",
      "Epoch 53/100\n",
      "120/120 [==============================] - 0s 2ms/step - loss: 0.1428 - acc: 0.9750\n",
      "Epoch 54/100\n",
      "120/120 [==============================] - 0s 2ms/step - loss: 0.1501 - acc: 0.9833\n",
      "Epoch 55/100\n",
      "120/120 [==============================] - 0s 2ms/step - loss: 0.1473 - acc: 0.9667\n",
      "Epoch 56/100\n",
      "120/120 [==============================] - 0s 2ms/step - loss: 0.1447 - acc: 0.9750\n",
      "Epoch 57/100\n",
      "120/120 [==============================] - 0s 2ms/step - loss: 0.1376 - acc: 0.9833\n",
      "Epoch 58/100\n",
      "120/120 [==============================] - 0s 2ms/step - loss: 0.1425 - acc: 0.9833\n",
      "Epoch 59/100\n",
      "120/120 [==============================] - 0s 2ms/step - loss: 0.1272 - acc: 1.0000\n",
      "Epoch 60/100\n",
      "120/120 [==============================] - 0s 2ms/step - loss: 0.1351 - acc: 0.9750\n",
      "Epoch 61/100\n",
      "120/120 [==============================] - 0s 2ms/step - loss: 0.1409 - acc: 0.9750\n",
      "Epoch 62/100\n",
      "120/120 [==============================] - 0s 2ms/step - loss: 0.1407 - acc: 0.9833\n",
      "Epoch 63/100\n",
      "120/120 [==============================] - 0s 2ms/step - loss: 0.1351 - acc: 0.9833\n",
      "Epoch 64/100\n",
      "120/120 [==============================] - 0s 2ms/step - loss: 0.1326 - acc: 0.9833\n",
      "Epoch 65/100\n",
      "120/120 [==============================] - 0s 2ms/step - loss: 0.1285 - acc: 0.9833\n",
      "Epoch 66/100\n",
      "120/120 [==============================] - 0s 2ms/step - loss: 0.1338 - acc: 0.9750\n",
      "Epoch 67/100\n",
      "120/120 [==============================] - 0s 2ms/step - loss: 0.1312 - acc: 0.9667\n",
      "Epoch 68/100\n",
      "120/120 [==============================] - 0s 2ms/step - loss: 0.1313 - acc: 0.9833\n",
      "Epoch 69/100\n",
      "120/120 [==============================] - 0s 2ms/step - loss: 0.1199 - acc: 0.9750- ETA: 0s - loss: 0.1323 - acc: 0.9\n",
      "Epoch 70/100\n",
      "120/120 [==============================] - 0s 2ms/step - loss: 0.1283 - acc: 0.9833\n",
      "Epoch 71/100\n",
      "120/120 [==============================] - 0s 2ms/step - loss: 0.1220 - acc: 0.9833\n",
      "Epoch 72/100\n",
      "120/120 [==============================] - 0s 2ms/step - loss: 0.1269 - acc: 0.9833\n",
      "Epoch 73/100\n",
      "120/120 [==============================] - 0s 2ms/step - loss: 0.1241 - acc: 0.9750\n",
      "Epoch 74/100\n",
      "120/120 [==============================] - 0s 2ms/step - loss: 0.1279 - acc: 0.9833\n",
      "Epoch 75/100\n",
      "120/120 [==============================] - 0s 2ms/step - loss: 0.1178 - acc: 0.9917\n",
      "Epoch 76/100\n",
      "120/120 [==============================] - 0s 2ms/step - loss: 0.1302 - acc: 0.9750\n",
      "Epoch 77/100\n",
      "120/120 [==============================] - 0s 2ms/step - loss: 0.1111 - acc: 0.9750\n",
      "Epoch 78/100\n",
      "120/120 [==============================] - 0s 2ms/step - loss: 0.1239 - acc: 0.9917\n",
      "Epoch 79/100\n",
      "120/120 [==============================] - 0s 2ms/step - loss: 0.1197 - acc: 0.9833\n",
      "Epoch 80/100\n",
      "120/120 [==============================] - 0s 2ms/step - loss: 0.1206 - acc: 0.9833\n",
      "Epoch 81/100\n",
      "120/120 [==============================] - 0s 2ms/step - loss: 0.1209 - acc: 0.9750\n",
      "Epoch 82/100\n",
      "120/120 [==============================] - 0s 2ms/step - loss: 0.1213 - acc: 0.9833\n",
      "Epoch 83/100\n",
      "120/120 [==============================] - 0s 2ms/step - loss: 0.1095 - acc: 0.9750\n",
      "Epoch 84/100\n",
      "120/120 [==============================] - 0s 2ms/step - loss: 0.1149 - acc: 0.9750\n",
      "Epoch 85/100\n",
      "120/120 [==============================] - 0s 2ms/step - loss: 0.1193 - acc: 0.9750\n",
      "Epoch 86/100\n",
      "120/120 [==============================] - 0s 2ms/step - loss: 0.1090 - acc: 0.9917\n",
      "Epoch 87/100\n",
      "120/120 [==============================] - 0s 2ms/step - loss: 0.1123 - acc: 0.9833\n",
      "Epoch 88/100\n",
      "120/120 [==============================] - 0s 2ms/step - loss: 0.1204 - acc: 0.9833\n",
      "Epoch 89/100\n",
      "120/120 [==============================] - 0s 2ms/step - loss: 0.1169 - acc: 0.9833\n",
      "Epoch 90/100\n",
      "120/120 [==============================] - 0s 2ms/step - loss: 0.1147 - acc: 0.9750\n",
      "Epoch 91/100\n",
      "120/120 [==============================] - 0s 2ms/step - loss: 0.1107 - acc: 0.9917\n",
      "Epoch 92/100\n",
      "120/120 [==============================] - 0s 2ms/step - loss: 0.1144 - acc: 0.9833\n",
      "Epoch 93/100\n",
      "120/120 [==============================] - 0s 2ms/step - loss: 0.1080 - acc: 0.9833\n",
      "Epoch 94/100\n",
      "120/120 [==============================] - 0s 2ms/step - loss: 0.1111 - acc: 0.9667\n",
      "Epoch 95/100\n",
      "120/120 [==============================] - 0s 2ms/step - loss: 0.1119 - acc: 0.9833\n",
      "Epoch 96/100\n",
      "120/120 [==============================] - 0s 2ms/step - loss: 0.1086 - acc: 0.9750\n",
      "Epoch 97/100\n",
      "120/120 [==============================] - 0s 2ms/step - loss: 0.1044 - acc: 0.9917\n",
      "Epoch 98/100\n",
      "120/120 [==============================] - 0s 2ms/step - loss: 0.1056 - acc: 0.9750\n",
      "Epoch 99/100\n",
      "120/120 [==============================] - 0s 2ms/step - loss: 0.1111 - acc: 0.9917\n",
      "Epoch 100/100\n",
      "120/120 [==============================] - 0s 2ms/step - loss: 0.1094 - acc: 0.9667\n"
     ]
    }
   ],
   "source": [
    "history = model2.fit(X_train, train_y_ohe, epochs = 100, batch_size = 1, verbose = 1);"
   ]
  },
  {
   "cell_type": "code",
   "execution_count": 44,
   "metadata": {},
   "outputs": [
    {
     "name": "stdout",
     "output_type": "stream",
     "text": [
      "30/30 [==============================] - 0s 381us/step\n",
      "Accuracy = 0.93\n"
     ]
    }
   ],
   "source": [
    "loss, accuracy = model2.evaluate(X_validation, validation_y_ohe, verbose = 1)\n",
    "print(\"Accuracy = {:.2f}\".format(accuracy))"
   ]
  },
  {
   "cell_type": "code",
   "execution_count": 45,
   "metadata": {},
   "outputs": [
    {
     "name": "stdout",
     "output_type": "stream",
     "text": [
      "Train on 120 samples, validate on 30 samples\n",
      "Epoch 1/50\n",
      "120/120 [==============================] - 0s 2ms/step - loss: 0.1105 - acc: 0.9917 - val_loss: 0.2275 - val_acc: 0.9000\n",
      "Epoch 2/50\n",
      "120/120 [==============================] - 0s 2ms/step - loss: 0.1047 - acc: 0.9917 - val_loss: 0.2186 - val_acc: 0.9000\n",
      "Epoch 3/50\n",
      "120/120 [==============================] - 0s 2ms/step - loss: 0.1039 - acc: 0.9833 - val_loss: 0.1980 - val_acc: 0.9333\n",
      "Epoch 4/50\n",
      "120/120 [==============================] - 0s 2ms/step - loss: 0.1022 - acc: 0.9667 - val_loss: 0.2177 - val_acc: 0.9000\n",
      "Epoch 5/50\n",
      "120/120 [==============================] - 0s 2ms/step - loss: 0.1025 - acc: 0.9917 - val_loss: 0.2005 - val_acc: 0.9333\n",
      "Epoch 6/50\n",
      "120/120 [==============================] - 0s 2ms/step - loss: 0.1067 - acc: 0.9750 - val_loss: 0.1985 - val_acc: 0.9000\n",
      "Epoch 7/50\n",
      "120/120 [==============================] - 0s 2ms/step - loss: 0.1029 - acc: 0.9833 - val_loss: 0.2118 - val_acc: 0.9333\n",
      "Epoch 8/50\n",
      "120/120 [==============================] - 0s 2ms/step - loss: 0.1056 - acc: 0.9750 - val_loss: 0.1983 - val_acc: 0.9000\n",
      "Epoch 9/50\n",
      "120/120 [==============================] - 0s 2ms/step - loss: 0.1064 - acc: 0.9917 - val_loss: 0.2339 - val_acc: 0.9000\n",
      "Epoch 10/50\n",
      "120/120 [==============================] - 0s 2ms/step - loss: 0.1035 - acc: 0.9750 - val_loss: 0.2265 - val_acc: 0.9000\n",
      "Epoch 11/50\n",
      "120/120 [==============================] - 0s 2ms/step - loss: 0.1006 - acc: 0.9750 - val_loss: 0.2251 - val_acc: 0.9000\n",
      "Epoch 12/50\n",
      "120/120 [==============================] - 0s 2ms/step - loss: 0.0952 - acc: 0.9917 - val_loss: 0.1980 - val_acc: 0.9333\n",
      "Epoch 13/50\n",
      "120/120 [==============================] - 0s 2ms/step - loss: 0.0997 - acc: 0.9917 - val_loss: 0.3095 - val_acc: 0.8667\n",
      "Epoch 14/50\n",
      "120/120 [==============================] - 0s 2ms/step - loss: 0.1066 - acc: 0.9833 - val_loss: 0.2048 - val_acc: 0.9000\n",
      "Epoch 15/50\n",
      "120/120 [==============================] - 0s 2ms/step - loss: 0.1032 - acc: 0.9833 - val_loss: 0.2320 - val_acc: 0.9000\n",
      "Epoch 16/50\n",
      "120/120 [==============================] - 0s 2ms/step - loss: 0.0992 - acc: 0.9917 - val_loss: 0.1988 - val_acc: 0.9000\n",
      "Epoch 17/50\n",
      "120/120 [==============================] - 0s 2ms/step - loss: 0.0994 - acc: 0.9833 - val_loss: 0.2821 - val_acc: 0.8667\n",
      "Epoch 18/50\n",
      "120/120 [==============================] - 0s 2ms/step - loss: 0.1043 - acc: 0.9750 - val_loss: 0.2135 - val_acc: 0.9000\n",
      "Epoch 19/50\n",
      "120/120 [==============================] - 0s 2ms/step - loss: 0.1026 - acc: 0.9833 - val_loss: 0.2103 - val_acc: 0.9333\n",
      "Epoch 20/50\n",
      "120/120 [==============================] - 0s 2ms/step - loss: 0.0989 - acc: 0.9917 - val_loss: 0.2055 - val_acc: 0.9000\n",
      "Epoch 21/50\n",
      "120/120 [==============================] - 0s 2ms/step - loss: 0.0958 - acc: 0.9917 - val_loss: 0.2259 - val_acc: 0.9000\n",
      "Epoch 22/50\n",
      "120/120 [==============================] - 0s 2ms/step - loss: 0.0941 - acc: 0.9750 - val_loss: 0.2119 - val_acc: 0.9000\n",
      "Epoch 23/50\n",
      "120/120 [==============================] - 0s 2ms/step - loss: 0.0929 - acc: 0.9917 - val_loss: 0.1962 - val_acc: 0.9000\n",
      "Epoch 24/50\n",
      "120/120 [==============================] - 0s 2ms/step - loss: 0.0967 - acc: 0.9750 - val_loss: 0.1955 - val_acc: 0.9000\n",
      "Epoch 25/50\n",
      "120/120 [==============================] - 0s 2ms/step - loss: 0.0975 - acc: 0.9667 - val_loss: 0.2299 - val_acc: 0.9000\n",
      "Epoch 26/50\n",
      "120/120 [==============================] - 0s 2ms/step - loss: 0.0978 - acc: 0.9750 - val_loss: 0.2226 - val_acc: 0.9000\n",
      "Epoch 27/50\n",
      "120/120 [==============================] - 0s 2ms/step - loss: 0.0982 - acc: 0.9833 - val_loss: 0.2290 - val_acc: 0.9000\n",
      "Epoch 28/50\n",
      "120/120 [==============================] - 0s 2ms/step - loss: 0.0930 - acc: 0.9917 - val_loss: 0.1992 - val_acc: 0.9000\n",
      "Epoch 29/50\n",
      "120/120 [==============================] - 0s 2ms/step - loss: 0.0966 - acc: 0.9917 - val_loss: 0.1975 - val_acc: 0.9000\n",
      "Epoch 30/50\n",
      "120/120 [==============================] - 0s 2ms/step - loss: 0.0983 - acc: 0.9750 - val_loss: 0.1924 - val_acc: 0.9000\n",
      "Epoch 31/50\n",
      "120/120 [==============================] - 0s 2ms/step - loss: 0.0979 - acc: 0.9667 - val_loss: 0.2411 - val_acc: 0.9000\n",
      "Epoch 32/50\n",
      "120/120 [==============================] - 0s 2ms/step - loss: 0.0963 - acc: 0.9917 - val_loss: 0.1886 - val_acc: 0.9333\n",
      "Epoch 33/50\n",
      "120/120 [==============================] - 0s 2ms/step - loss: 0.0983 - acc: 0.9833 - val_loss: 0.2357 - val_acc: 0.9000\n",
      "Epoch 34/50\n",
      "120/120 [==============================] - 0s 2ms/step - loss: 0.0953 - acc: 0.9917 - val_loss: 0.2007 - val_acc: 0.9000\n",
      "Epoch 35/50\n",
      "120/120 [==============================] - 0s 2ms/step - loss: 0.0933 - acc: 0.9750 - val_loss: 0.2492 - val_acc: 0.9000\n",
      "Epoch 36/50\n",
      "120/120 [==============================] - 0s 2ms/step - loss: 0.0895 - acc: 0.9833 - val_loss: 0.1913 - val_acc: 0.9333\n",
      "Epoch 37/50\n",
      "120/120 [==============================] - 0s 2ms/step - loss: 0.0960 - acc: 0.9833 - val_loss: 0.2412 - val_acc: 0.9000\n",
      "Epoch 38/50\n",
      "120/120 [==============================] - 0s 2ms/step - loss: 0.0934 - acc: 0.9750 - val_loss: 0.2426 - val_acc: 0.9000\n",
      "Epoch 39/50\n",
      "120/120 [==============================] - 0s 2ms/step - loss: 0.0958 - acc: 0.9833 - val_loss: 0.2010 - val_acc: 0.9000\n",
      "Epoch 40/50\n",
      "120/120 [==============================] - 0s 2ms/step - loss: 0.0956 - acc: 0.9750 - val_loss: 0.2342 - val_acc: 0.9000\n",
      "Epoch 41/50\n",
      "120/120 [==============================] - 0s 2ms/step - loss: 0.0892 - acc: 0.9917 - val_loss: 0.1935 - val_acc: 0.9000\n",
      "Epoch 42/50\n",
      "120/120 [==============================] - 0s 2ms/step - loss: 0.0899 - acc: 0.9750 - val_loss: 0.2421 - val_acc: 0.9000\n",
      "Epoch 43/50\n",
      "120/120 [==============================] - 0s 2ms/step - loss: 0.0939 - acc: 0.9833 - val_loss: 0.1863 - val_acc: 0.9000\n",
      "Epoch 44/50\n",
      "120/120 [==============================] - 0s 2ms/step - loss: 0.0867 - acc: 0.9917 - val_loss: 0.1864 - val_acc: 0.9333\n",
      "Epoch 45/50\n",
      "120/120 [==============================] - 0s 2ms/step - loss: 0.0911 - acc: 0.9750 - val_loss: 0.2139 - val_acc: 0.9000\n",
      "Epoch 46/50\n",
      "120/120 [==============================] - 0s 2ms/step - loss: 0.0941 - acc: 0.9833 - val_loss: 0.2176 - val_acc: 0.9000\n",
      "Epoch 47/50\n",
      "120/120 [==============================] - 0s 2ms/step - loss: 0.0872 - acc: 0.9917 - val_loss: 0.1917 - val_acc: 0.9333\n",
      "Epoch 48/50\n",
      "120/120 [==============================] - 0s 2ms/step - loss: 0.0939 - acc: 0.9833 - val_loss: 0.1856 - val_acc: 0.9000\n",
      "Epoch 49/50\n",
      "120/120 [==============================] - 0s 2ms/step - loss: 0.0926 - acc: 0.9833 - val_loss: 0.1870 - val_acc: 0.9000\n",
      "Epoch 50/50\n",
      "120/120 [==============================] - 0s 2ms/step - loss: 0.0933 - acc: 0.9833 - val_loss: 0.1970 - val_acc: 0.9000\n"
     ]
    }
   ],
   "source": [
    "history = model2.fit(X_train, \n",
    "                     train_y_ohe,\n",
    "                     epochs = 50, \n",
    "                     batch_size = 1, \n",
    "                     verbose = 1,\n",
    "                    validation_data = (X_validation, validation_y_ohe))\n",
    "\n",
    "\n",
    " "
   ]
  },
  {
   "cell_type": "code",
   "execution_count": 46,
   "metadata": {},
   "outputs": [
    {
     "data": {
      "text/plain": [
       "['acc', 'loss', 'val_acc', 'val_loss']"
      ]
     },
     "execution_count": 46,
     "metadata": {},
     "output_type": "execute_result"
    }
   ],
   "source": [
    "history_dict = history.history\n",
    "history_dict.keys()"
   ]
  },
  {
   "cell_type": "code",
   "execution_count": 47,
   "metadata": {},
   "outputs": [
    {
     "data": {
      "image/png": "[encoded data removed]",
      "text/plain": [
       "<matplotlib.figure.Figure at 0x7f137f3f0710>"
      ]
     },
     "metadata": {},
     "output_type": "display_data"
    }
   ],
   "source": [
    "import matplotlib.pyplot as plt\n",
    "\n",
    "acc = history.history['acc']\n",
    "#acc = history.history['val_binary_accuracy'] \n",
    "\n",
    "val_acc = history.history['val_acc']\n",
    "#val_acc = history.history['binary_accuracy']\n",
    "\n",
    "loss = history.history['loss']\n",
    "val_loss = history.history['val_loss']\n",
    "\n",
    "epochs = range(1, len(acc) + 1)\n",
    "\n",
    "# \"bo\" is for \"blue dot\"\n",
    "plt.plot(epochs, loss, 'bo', label='Training loss')\n",
    "# b is for \"solid blue line\"\n",
    "plt.plot(epochs, val_loss, 'b', label='Validation loss')\n",
    "plt.title('Training and validation loss')\n",
    "plt.xlabel('Epochs')\n",
    "plt.ylabel('Loss')\n",
    "plt.legend()\n",
    "\n",
    "plt.show()"
   ]
  },
  {
   "cell_type": "code",
   "execution_count": 48,
   "metadata": {},
   "outputs": [
    {
     "data": {
      "image/png": "[encoded data removed]",
      "text/plain": [
       "<matplotlib.figure.Figure at 0x7f117c07ec50>"
      ]
     },
     "metadata": {},
     "output_type": "display_data"
    }
   ],
   "source": [
    "plt.clf()   # clear figure\n",
    "\n",
    "acc_values = history_dict['acc']\n",
    " \n",
    "#acc_values = history.history['val_binary_accuracy'] \n",
    "\n",
    "val_acc_values = history_dict['val_acc']\n",
    "#val_acc_values = history.history['binary_accuracy']\n",
    "\n",
    "plt.plot(epochs, acc, 'bo', label='Training acc')\n",
    "plt.plot(epochs, val_acc, 'b', label='Validation acc')\n",
    "plt.title('Training and validation accuracy')\n",
    "plt.xlabel('Epochs')\n",
    "plt.ylabel('Loss')\n",
    "plt.legend()\n",
    "\n",
    "plt.show()"
   ]
  },
  {
   "cell_type": "code",
   "execution_count": 49,
   "metadata": {},
   "outputs": [
    {
     "data": {
      "text/plain": [
       "0.9833333333333333"
      ]
     },
     "execution_count": 49,
     "metadata": {},
     "output_type": "execute_result"
    }
   ],
   "source": [
    "acc_values[-1]"
   ]
  },
  {
   "cell_type": "code",
   "execution_count": 50,
   "metadata": {},
   "outputs": [
    {
     "data": {
      "text/plain": [
       "0.9"
      ]
     },
     "execution_count": 50,
     "metadata": {},
     "output_type": "execute_result"
    }
   ],
   "source": [
    "val_acc[-1]"
   ]
  },
  {
   "cell_type": "code",
   "execution_count": null,
   "metadata": {},
   "outputs": [],
   "source": []
  }
 ],
 "metadata": {
  "kernelspec": {
   "display_name": "Python 2",
   "language": "python",
   "name": "python2"
  },
  "language_info": {
   "codemirror_mode": {
    "name": "ipython",
    "version": 2
   },
   "file_extension": ".py",
   "mimetype": "text/x-python",
   "name": "python",
   "nbconvert_exporter": "python",
   "pygments_lexer": "ipython2",
   "version": "2.7.12"
  }
 },
 "nbformat": 4,
 "nbformat_minor": 1
}
