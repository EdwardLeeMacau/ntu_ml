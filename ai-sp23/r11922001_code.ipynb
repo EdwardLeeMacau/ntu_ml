{
  "cells": [
    {
      "attachments": {},
      "cell_type": "markdown",
      "metadata": {
        "id": "3d7uXM0ME_9E"
      },
      "source": [
        "# Homework 03: Object detection"
      ]
    },
    {
      "attachments": {},
      "cell_type": "markdown",
      "metadata": {
        "id": "aHOt3efyFNkY"
      },
      "source": [
        "* **REMEMBER TO COPY THIS FILE TO YOUR OWN DRIVE**\n",
        "* You can only modify the non maximal suppression function\n",
        "* What you need to do in this homework\n",
        "  * Understand YOLO and one-stage object detection models.\n",
        "  * Finish the Non-maximum Suppression function.\n",
        "  * Inference on sample images and finish the report.\n",
        "  * [HW3 Report](https://docs.google.com/document/d/1BN-69IoHkGvBuOFyc0jxJvqsGpfmeurGrZCBHWaX_fI/edit)"
      ]
    },
    {
      "cell_type": "code",
      "execution_count": null,
      "metadata": {
        "colab": {
          "base_uri": "https://localhost:8080/"
        },
        "id": "hd0YvkK8zLcQ",
        "outputId": "3cf637ce-0326-44e2-c50a-ae7adf4f4121"
      },
      "outputs": [
        {
          "name": "stdout",
          "output_type": "stream",
          "text": [
            "Mounted at /content/gdrive\n",
            "/content/gdrive/MyDrive\n"
          ]
        }
      ],
      "source": [
        "from google.colab import drive\n",
        "drive.mount(\"/content/gdrive\")\n",
        "\n",
        "%cd /content/gdrive/MyDrive/"
      ]
    },
    {
      "cell_type": "code",
      "execution_count": 1,
      "metadata": {
        "colab": {
          "base_uri": "https://localhost:8080/"
        },
        "id": "ATSD1w-HzQbD",
        "outputId": "de61c950-51aa-4a6a-c831-b08a667e3ea0"
      },
      "outputs": [
        {
          "name": "stdout",
          "output_type": "stream",
          "text": [
            "/home/edwardleemacau/proj/ntu_ml/ai-sp23/AI-hw3\n"
          ]
        }
      ],
      "source": [
        "import os\n",
        "if not os.path.isdir(\"AI-hw3\"):\n",
        "    os.makedirs(\"AI-hw3\")\n",
        "\n",
        "%cd AI-hw3"
      ]
    },
    {
      "attachments": {},
      "cell_type": "markdown",
      "metadata": {
        "id": "cA3bdz8SGlSf"
      },
      "source": [
        "# Download data and checkpoint"
      ]
    },
    {
      "cell_type": "code",
      "execution_count": 2,
      "metadata": {
        "id": "gT0RrDpPzUKj"
      },
      "outputs": [],
      "source": [
        "# download the pretrain weight of YOLOv7\n",
        "if not os.path.isfile(\"yolov7.pt\"):\n",
        "    !wget https://github.com/WongKinYiu/yolov7/releases/download/v0.1/yolov7.pt\n",
        "\n",
        "# download the inference data\n",
        "if not os.path.isdir(\"data\"):\n",
        "  ! gdown --folder https://drive.google.com/drive/folders/1RhCVmkRD_6sF4gsgFzgUKDUrQlXJB04X?usp=share_link -O data"
      ]
    },
    {
      "attachments": {},
      "cell_type": "markdown",
      "metadata": {
        "id": "JStqkR23GhFO"
      },
      "source": [
        "# Import packages"
      ]
    },
    {
      "cell_type": "code",
      "execution_count": 3,
      "metadata": {
        "id": "ElxaWxV9zYHl"
      },
      "outputs": [],
      "source": [
        "import torch\n",
        "import random\n",
        "import cv2\n",
        "import numpy as np\n",
        "import torchvision\n",
        "import torchvision.transforms as transforms\n",
        "from torch.utils.data import Dataset\n",
        "import glob\n",
        "\n",
        "from PIL import Image, ImageDraw, ImageFont"
      ]
    },
    {
      "attachments": {},
      "cell_type": "markdown",
      "metadata": {
        "id": "w1FJPDNhGrET"
      },
      "source": [
        "# Utility function you may need (not necessary)"
      ]
    },
    {
      "cell_type": "code",
      "execution_count": 4,
      "metadata": {
        "id": "ufIo08nF6Ub8"
      },
      "outputs": [],
      "source": [
        "def xyxy2xywh(x):\n",
        "    # Convert nx4 boxes from [x1, y1, x2, y2] to [x, y, w, h] where xy1=top-left, xy2=bottom-right\n",
        "    y = x.clone() if isinstance(x, torch.Tensor) else np.copy(x)\n",
        "    y[:, 0] = (x[:, 0] + x[:, 2]) / 2  # x center\n",
        "    y[:, 1] = (x[:, 1] + x[:, 3]) / 2  # y center\n",
        "    y[:, 2] = x[:, 2] - x[:, 0]  # width\n",
        "    y[:, 3] = x[:, 3] - x[:, 1]  # height\n",
        "    return y\n",
        "\n",
        "\n",
        "def xywh2xyxy(x):\n",
        "    # Convert nx4 boxes from [x, y, w, h] to [x1, y1, x2, y2] where xy1=top-left, xy2=bottom-right\n",
        "    y = x.clone() if isinstance(x, torch.Tensor) else np.copy(x)\n",
        "    y[:, 0] = x[:, 0] - x[:, 2] / 2  # top left x\n",
        "    y[:, 1] = x[:, 1] - x[:, 3] / 2  # top left y\n",
        "    y[:, 2] = x[:, 0] + x[:, 2] / 2  # bottom right x\n",
        "    y[:, 3] = x[:, 1] + x[:, 3] / 2  # bottom right y\n",
        "    return y\n",
        "\n",
        "\n",
        "def box_iou(box1, box2):\n",
        "    # https://github.com/pytorch/vision/blob/master/torchvision/ops/boxes.py\n",
        "    \"\"\"\n",
        "    Return intersection-over-union (Jaccard index) of boxes.\n",
        "    Both sets of boxes are expected to be in (x1, y1, x2, y2) format.\n",
        "    Arguments:\n",
        "        box1 (Tensor[N, 4])\n",
        "        box2 (Tensor[M, 4])\n",
        "    Returns:\n",
        "        iou (Tensor[N, M]): the NxM matrix containing the pairwise\n",
        "            IoU values for every element in boxes1 and boxes2\n",
        "    \"\"\"\n",
        "\n",
        "    def box_area(box):\n",
        "        # box = 4xn\n",
        "        return (box[2] - box[0]) * (box[3] - box[1])\n",
        "\n",
        "    area1 = box_area(box1.T)\n",
        "    area2 = box_area(box2.T)\n",
        "\n",
        "    # inter(N,M) = (rb(N,M,2) - lt(N,M,2)).clamp(0).prod(2)\n",
        "    inter = (torch.min(box1[:, None, 2:], box2[:, 2:]) - torch.max(box1[:, None, :2], box2[:, :2])).clamp(0).prod(2)\n",
        "    return inter / (area1[:, None] + area2 - inter)  # iou = inter / (area1 + area2 - inter)"
      ]
    },
    {
      "attachments": {},
      "cell_type": "markdown",
      "metadata": {
        "id": "EiInc5jWG0Kq"
      },
      "source": [
        "# Non-Maximum Suppression(NMS)"
      ]
    },
    {
      "cell_type": "code",
      "execution_count": 5,
      "metadata": {
        "id": "9TwSMjkw6u3n"
      },
      "outputs": [],
      "source": [
        "def non_max_suppression(prediction, confidence_threshold=0.4, iou_thres=0.6):\n",
        "    \"\"\"Runs Non-Maximum Suppression (NMS) on inference results\n",
        "    Returns:\n",
        "         list of detections, on (n,6) tensor per image [xyxy, conf, cls]\n",
        "    \"\"\"\n",
        "\n",
        "    # Start of your code\n",
        "\n",
        "    candidates_mask = prediction[..., 4] > confidence_threshold\n",
        "\n",
        "    outputs = list()\n",
        "\n",
        "    for image_number, current_prediction in enumerate(prediction):\n",
        "\n",
        "        current_prediction = current_prediction[candidates_mask[image_number]]  # confidence\n",
        "\n",
        "        current_prediction[:, 5:] *= current_prediction[:, 4:5]  # conf = obj_conf * cls_conf\n",
        "\n",
        "        boxes = xywh2xyxy(current_prediction[:, :4])\n",
        "\n",
        "        conf, nonzero_confidence_j = current_prediction[:, 5:].max(1, keepdim=True)\n",
        "          \n",
        "        current_prediction = torch.cat((boxes, conf, nonzero_confidence_j.float()), 1)[conf.view(-1) > confidence_threshold]\n",
        "\n",
        "        # using non-maximum suppression to remove the redundant bbox\n",
        "        conf = current_prediction[:, 4]\n",
        "        \n",
        "        ret = list()\n",
        "        while True:\n",
        "            # Check if there is no remain bbox, terminate the loop\n",
        "            val, idx = conf.max(0)\n",
        "            if val == 0:\n",
        "                break\n",
        "\n",
        "            # pop candidate bbox to retval\n",
        "            ret.append(current_prediction[idx].tolist())\n",
        "\n",
        "            # calculate the IoU between the candidate bbox and the remain bboxes\n",
        "            box1 = current_prediction[idx, :4].unsqueeze(0)\n",
        "            box2 = current_prediction[:, :4]\n",
        "            \n",
        "            # iou.shape: (n, )\n",
        "            iou = box_iou(box1, box2).squeeze(0)\n",
        "            iou_mask = iou > iou_thres\n",
        "\n",
        "            # suppress the bbox confidence to 0 if the IoU is higher than the threshold\n",
        "            current_prediction[iou_mask, 4] = 0\n",
        "            current_prediction[idx, 4] = 0\n",
        "\n",
        "        outputs.append(ret)\n",
        "\n",
        "    return outputs\n",
        "\n",
        "    # End of your code"
      ]
    },
    {
      "attachments": {},
      "cell_type": "markdown",
      "metadata": {
        "id": "SXPwKyAPG-Rh"
      },
      "source": [
        "# Datasets"
      ]
    },
    {
      "cell_type": "code",
      "execution_count": 6,
      "metadata": {
        "id": "6Ahzqa4uzYBd"
      },
      "outputs": [],
      "source": [
        "# build our own dataloader\n",
        "class MyDataset(torch.utils.data.Dataset):\n",
        "  def __init__(self, root, transform=None):\n",
        "    self.data = glob.glob(os.path.join(root,'*'))\n",
        "    print(self.data)\n",
        "    self.transform = transform\n",
        "    self.len = len(self.data)\n",
        "\n",
        "  def __len__(self):\n",
        "    return self.len\n",
        "\n",
        "  def __getitem__(self, index):\n",
        "    image = Image.open(self.data[index])\n",
        "\n",
        "    return transform(image), self.data[index]\n",
        "\n",
        "\n",
        "yolo_img_size = 640\n",
        "\n",
        "transform = transforms.Compose([\n",
        "    transforms.Resize((yolo_img_size, yolo_img_size)),\n",
        "    transforms.ToTensor()\n",
        "])"
      ]
    },
    {
      "attachments": {},
      "cell_type": "markdown",
      "metadata": {
        "id": "cIDOWO5kHprp"
      },
      "source": [
        "# Load model and data"
      ]
    },
    {
      "cell_type": "code",
      "execution_count": 7,
      "metadata": {
        "colab": {
          "base_uri": "https://localhost:8080/"
        },
        "id": "y5lwHW3cHjnP",
        "outputId": "9c41e613-44c5-4c2c-b012-ddd8d1c7c795"
      },
      "outputs": [
        {
          "name": "stderr",
          "output_type": "stream",
          "text": [
            "Downloading: \"https://github.com/WongKinYiu/yolov7/zipball/main\" to /home/edwardleemacau/.cache/torch/hub/main.zip\n",
            "\n",
            "                 from  n    params  module                                  arguments                     \n",
            "  0                -1  1       928  models.common.Conv                      [3, 32, 3, 1]                 \n",
            "  1                -1  1     18560  models.common.Conv                      [32, 64, 3, 2]                \n",
            "  2                -1  1     36992  models.common.Conv                      [64, 64, 3, 1]                \n",
            "  3                -1  1     73984  models.common.Conv                      [64, 128, 3, 2]               \n",
            "  4                -1  1      8320  models.common.Conv                      [128, 64, 1, 1]               \n",
            "  5                -2  1      8320  models.common.Conv                      [128, 64, 1, 1]               \n",
            "  6                -1  1     36992  models.common.Conv                      [64, 64, 3, 1]                \n",
            "  7                -1  1     36992  models.common.Conv                      [64, 64, 3, 1]                \n",
            "  8                -1  1     36992  models.common.Conv                      [64, 64, 3, 1]                \n",
            "  9                -1  1     36992  models.common.Conv                      [64, 64, 3, 1]                \n",
            " 10  [-1, -3, -5, -6]  1         0  models.common.Concat                    [1]                           \n",
            " 11                -1  1     66048  models.common.Conv                      [256, 256, 1, 1]              \n",
            " 12                -1  1         0  models.common.MP                        []                            \n",
            " 13                -1  1     33024  models.common.Conv                      [256, 128, 1, 1]              \n",
            " 14                -3  1     33024  models.common.Conv                      [256, 128, 1, 1]              \n",
            " 15                -1  1    147712  models.common.Conv                      [128, 128, 3, 2]              \n",
            " 16          [-1, -3]  1         0  models.common.Concat                    [1]                           \n",
            " 17                -1  1     33024  models.common.Conv                      [256, 128, 1, 1]              \n",
            " 18                -2  1     33024  models.common.Conv                      [256, 128, 1, 1]              \n",
            " 19                -1  1    147712  models.common.Conv                      [128, 128, 3, 1]              \n",
            " 20                -1  1    147712  models.common.Conv                      [128, 128, 3, 1]              \n",
            " 21                -1  1    147712  models.common.Conv                      [128, 128, 3, 1]              \n",
            " 22                -1  1    147712  models.common.Conv                      [128, 128, 3, 1]              \n",
            " 23  [-1, -3, -5, -6]  1         0  models.common.Concat                    [1]                           \n",
            " 24                -1  1    263168  models.common.Conv                      [512, 512, 1, 1]              \n",
            " 25                -1  1         0  models.common.MP                        []                            \n",
            " 26                -1  1    131584  models.common.Conv                      [512, 256, 1, 1]              \n",
            " 27                -3  1    131584  models.common.Conv                      [512, 256, 1, 1]              \n",
            " 28                -1  1    590336  models.common.Conv                      [256, 256, 3, 2]              \n",
            " 29          [-1, -3]  1         0  models.common.Concat                    [1]                           \n",
            " 30                -1  1    131584  models.common.Conv                      [512, 256, 1, 1]              \n",
            " 31                -2  1    131584  models.common.Conv                      [512, 256, 1, 1]              \n",
            " 32                -1  1    590336  models.common.Conv                      [256, 256, 3, 1]              \n",
            " 33                -1  1    590336  models.common.Conv                      [256, 256, 3, 1]              \n",
            " 34                -1  1    590336  models.common.Conv                      [256, 256, 3, 1]              \n",
            " 35                -1  1    590336  models.common.Conv                      [256, 256, 3, 1]              \n",
            " 36  [-1, -3, -5, -6]  1         0  models.common.Concat                    [1]                           \n",
            " 37                -1  1   1050624  models.common.Conv                      [1024, 1024, 1, 1]            \n",
            " 38                -1  1         0  models.common.MP                        []                            \n",
            " 39                -1  1    525312  models.common.Conv                      [1024, 512, 1, 1]             \n",
            " 40                -3  1    525312  models.common.Conv                      [1024, 512, 1, 1]             \n",
            " 41                -1  1   2360320  models.common.Conv                      [512, 512, 3, 2]              \n",
            " 42          [-1, -3]  1         0  models.common.Concat                    [1]                           \n",
            " 43                -1  1    262656  models.common.Conv                      [1024, 256, 1, 1]             \n",
            " 44                -2  1    262656  models.common.Conv                      [1024, 256, 1, 1]             \n",
            " 45                -1  1    590336  models.common.Conv                      [256, 256, 3, 1]              \n",
            " 46                -1  1    590336  models.common.Conv                      [256, 256, 3, 1]              \n",
            " 47                -1  1    590336  models.common.Conv                      [256, 256, 3, 1]              \n",
            " 48                -1  1    590336  models.common.Conv                      [256, 256, 3, 1]              \n",
            " 49  [-1, -3, -5, -6]  1         0  models.common.Concat                    [1]                           \n",
            " 50                -1  1   1050624  models.common.Conv                      [1024, 1024, 1, 1]            \n",
            " 51                -1  1   7609344  models.common.SPPCSPC                   [1024, 512, 1]                \n",
            " 52                -1  1    131584  models.common.Conv                      [512, 256, 1, 1]              \n",
            " 53                -1  1         0  torch.nn.modules.upsampling.Upsample    [None, 2, 'nearest']          \n",
            " 54                37  1    262656  models.common.Conv                      [1024, 256, 1, 1]             \n",
            " 55          [-1, -2]  1         0  models.common.Concat                    [1]                           \n",
            " 56                -1  1    131584  models.common.Conv                      [512, 256, 1, 1]              \n",
            " 57                -2  1    131584  models.common.Conv                      [512, 256, 1, 1]              \n",
            " 58                -1  1    295168  models.common.Conv                      [256, 128, 3, 1]              \n",
            " 59                -1  1    147712  models.common.Conv                      [128, 128, 3, 1]              \n",
            " 60                -1  1    147712  models.common.Conv                      [128, 128, 3, 1]              \n",
            " 61                -1  1    147712  models.common.Conv                      [128, 128, 3, 1]              \n",
            " 62[-1, -2, -3, -4, -5, -6]  1         0  models.common.Concat                    [1]                           \n",
            " 63                -1  1    262656  models.common.Conv                      [1024, 256, 1, 1]             \n",
            " 64                -1  1     33024  models.common.Conv                      [256, 128, 1, 1]              \n",
            " 65                -1  1         0  torch.nn.modules.upsampling.Upsample    [None, 2, 'nearest']          \n",
            " 66                24  1     65792  models.common.Conv                      [512, 128, 1, 1]              \n",
            " 67          [-1, -2]  1         0  models.common.Concat                    [1]                           \n",
            " 68                -1  1     33024  models.common.Conv                      [256, 128, 1, 1]              \n",
            " 69                -2  1     33024  models.common.Conv                      [256, 128, 1, 1]              \n",
            " 70                -1  1     73856  models.common.Conv                      [128, 64, 3, 1]               \n",
            " 71                -1  1     36992  models.common.Conv                      [64, 64, 3, 1]                \n",
            " 72                -1  1     36992  models.common.Conv                      [64, 64, 3, 1]                \n",
            " 73                -1  1     36992  models.common.Conv                      [64, 64, 3, 1]                \n",
            " 74[-1, -2, -3, -4, -5, -6]  1         0  models.common.Concat                    [1]                           \n",
            " 75                -1  1     65792  models.common.Conv                      [512, 128, 1, 1]              \n",
            " 76                -1  1         0  models.common.MP                        []                            \n",
            " 77                -1  1     16640  models.common.Conv                      [128, 128, 1, 1]              \n",
            " 78                -3  1     16640  models.common.Conv                      [128, 128, 1, 1]              \n",
            " 79                -1  1    147712  models.common.Conv                      [128, 128, 3, 2]              \n",
            " 80      [-1, -3, 63]  1         0  models.common.Concat                    [1]                           \n",
            " 81                -1  1    131584  models.common.Conv                      [512, 256, 1, 1]              \n",
            " 82                -2  1    131584  models.common.Conv                      [512, 256, 1, 1]              \n",
            " 83                -1  1    295168  models.common.Conv                      [256, 128, 3, 1]              \n",
            " 84                -1  1    147712  models.common.Conv                      [128, 128, 3, 1]              \n",
            " 85                -1  1    147712  models.common.Conv                      [128, 128, 3, 1]              \n",
            " 86                -1  1    147712  models.common.Conv                      [128, 128, 3, 1]              \n",
            " 87[-1, -2, -3, -4, -5, -6]  1         0  models.common.Concat                    [1]                           \n",
            " 88                -1  1    262656  models.common.Conv                      [1024, 256, 1, 1]             \n",
            " 89                -1  1         0  models.common.MP                        []                            \n",
            " 90                -1  1     66048  models.common.Conv                      [256, 256, 1, 1]              \n",
            " 91                -3  1     66048  models.common.Conv                      [256, 256, 1, 1]              \n",
            " 92                -1  1    590336  models.common.Conv                      [256, 256, 3, 2]              \n",
            " 93      [-1, -3, 51]  1         0  models.common.Concat                    [1]                           \n",
            " 94                -1  1    525312  models.common.Conv                      [1024, 512, 1, 1]             \n",
            " 95                -2  1    525312  models.common.Conv                      [1024, 512, 1, 1]             \n",
            " 96                -1  1   1180160  models.common.Conv                      [512, 256, 3, 1]              \n",
            " 97                -1  1    590336  models.common.Conv                      [256, 256, 3, 1]              \n",
            " 98                -1  1    590336  models.common.Conv                      [256, 256, 3, 1]              \n",
            " 99                -1  1    590336  models.common.Conv                      [256, 256, 3, 1]              \n",
            "100[-1, -2, -3, -4, -5, -6]  1         0  models.common.Concat                    [1]                           \n",
            "101                -1  1   1049600  models.common.Conv                      [2048, 512, 1, 1]             \n",
            "102                75  1    328704  models.common.RepConv                   [128, 256, 3, 1]              \n",
            "103                88  1   1312768  models.common.RepConv                   [256, 512, 3, 1]              \n",
            "104               101  1   5246976  models.common.RepConv                   [512, 1024, 3, 1]             \n",
            "105   [102, 103, 104]  1    457725  models.yolo.Detect                      [80, [[12, 16, 19, 36, 40, 28], [36, 75, 76, 55, 72, 146], [142, 110, 192, 243, 459, 401]], [256, 512, 1024]]\n",
            "Model Summary: 407 layers, 37620125 parameters, 37620125 gradients\n",
            "\n",
            "YOLOR 🚀 2023-5-13 torch 2.0.0+cu117 CUDA:0 (NVIDIA GeForce RTX 3090, 24237.5MB)\n",
            "\n"
          ]
        },
        {
          "name": "stdout",
          "output_type": "stream",
          "text": [
            "Adding autoShape... \n",
            "['data/1.jpg', 'data/4.jpg', 'data/3.jpg', 'data/2.jpg']\n"
          ]
        }
      ],
      "source": [
        "# download the yolov7 pretrain weight\n",
        "model = torch.hub.load('WongKinYiu/yolov7', 'custom', 'yolov7.pt',\n",
        "                        force_reload=True, trust_repo=True)\n",
        "\n",
        "\n",
        "dataset = MyDataset(\"data\", transform=transform)\n",
        "dataloader = torch.utils.data.DataLoader(dataset, batch_size=8, shuffle=True)"
      ]
    },
    {
      "attachments": {},
      "cell_type": "markdown",
      "metadata": {
        "id": "AgBd96RbHKGg"
      },
      "source": [
        "# Plot the result"
      ]
    },
    {
      "cell_type": "code",
      "execution_count": 8,
      "metadata": {
        "id": "nSNEZWa8zXtK"
      },
      "outputs": [],
      "source": [
        "class_labels = model.module.names if hasattr(model, 'module') else model.names\n",
        "\n",
        "# set color for class labels\n",
        "colors = [[random.randint(0, 255) for _ in range(3)] for _ in class_labels]\n",
        "\n",
        "\n",
        "# draw the bounding box detect by YOLO on image\n",
        "def plot_bbox(name, pred):\n",
        "  img = Image.open(name)\n",
        "  width, height = img.size\n",
        "  for p in pred:\n",
        "    label = class_labels[int(p[5])]\n",
        "    box = [p[0]/yolo_img_size*width,\n",
        "           p[1]/yolo_img_size*height,\n",
        "           p[2]/yolo_img_size*width,\n",
        "           p[3]/yolo_img_size*height]\n",
        "    draw = ImageDraw.Draw(img)\n",
        "    draw.rectangle(box, outline=tuple(colors[int(p[5])]), width=3)\n",
        "\n",
        "    fontsize = max(round(max(img.size) / 40), 12)\n",
        "    font = ImageFont.load_default()\n",
        "    # font = ImageFont.truetype(\"arial.ttf\", fontsize)\n",
        "    txt_width, txt_height = font.getsize(label)\n",
        "    draw.rectangle([box[0], box[1] - txt_height + 4, box[0] + txt_width, box[1]], fill=tuple(colors[int(p[5])]))\n",
        "    draw.text((box[0], box[1] - txt_height + 1), label, fill=(255, 255, 255), font=font)\n",
        "    del draw\n",
        "\n",
        "  dor_position = name.find(\".\")\n",
        "  save_path = name[:dor_position]+\"_pred\"+name[dor_position:]\n",
        "  \n",
        "  if not os.path.isdir(\"prediction\"):\n",
        "    os.makedirs(\"prediction\")\n",
        "\n",
        "  print(\"the result of image:\", save_path, \"is save to\", save_path.replace(\"data\", \"prediction\"))\n",
        "  img.save(save_path.replace(\"data\", \"prediction\"))"
      ]
    },
    {
      "attachments": {},
      "cell_type": "markdown",
      "metadata": {
        "id": "Y4peyoUnH4hK"
      },
      "source": [
        "# Inference"
      ]
    },
    {
      "cell_type": "code",
      "execution_count": 9,
      "metadata": {
        "colab": {
          "base_uri": "https://localhost:8080/"
        },
        "id": "2hh-oXIozoyI",
        "outputId": "15eb988d-b0f2-489e-dee8-f923558bbcaa"
      },
      "outputs": [
        {
          "name": "stdout",
          "output_type": "stream",
          "text": [
            "the result of image: data/4_pred.jpg is save to prediction/4_pred.jpg\n",
            "the result of image: data/2_pred.jpg is save to prediction/2_pred.jpg\n",
            "the result of image: data/1_pred.jpg is save to prediction/1_pred.jpg\n",
            "the result of image: data/3_pred.jpg is save to prediction/3_pred.jpg\n"
          ]
        },
        {
          "name": "stderr",
          "output_type": "stream",
          "text": [
            "/home/edwardleemacau/anaconda3/envs/py3.9/lib/python3.9/site-packages/torch/functional.py:504: UserWarning: torch.meshgrid: in an upcoming release, it will be required to pass the indexing argument. (Triggered internally at ../aten/src/ATen/native/TensorShape.cpp:3483.)\n",
            "  return _VF.meshgrid(tensors, **kwargs)  # type: ignore[attr-defined]\n",
            "/tmp/ipykernel_705465/73598771.py:23: DeprecationWarning: getsize is deprecated and will be removed in Pillow 10 (2023-07-01). Use getbbox or getlength instead.\n",
            "  txt_width, txt_height = font.getsize(label)\n"
          ]
        }
      ],
      "source": [
        "# Set device to GPU if available\n",
        "device = torch.device(\"cuda\" if torch.cuda.is_available() else \"cpu\")\n",
        "\n",
        "# Load the YOLO model\n",
        "model.to(device)\n",
        "\n",
        "# Inference\n",
        "model.eval()\n",
        "with torch.no_grad():\n",
        "  for batch_idx, (images, filename) in enumerate(dataloader):\n",
        "    images = images.to(device)\n",
        "    outputs = model(images)[0]\n",
        "    \n",
        "    # Process the outputs\n",
        "    preds = non_max_suppression(outputs, confidence_threshold=0.4, iou_thres=0.6)\n",
        "\n",
        "    for idx, pred in enumerate(preds):\n",
        "      plot_bbox(filename[idx], pred)"
      ]
    }
  ],
  "metadata": {
    "accelerator": "GPU",
    "colab": {
      "provenance": []
    },
    "gpuClass": "standard",
    "kernelspec": {
      "display_name": "Python 3",
      "name": "python3"
    },
    "language_info": {
      "codemirror_mode": {
        "name": "ipython",
        "version": 3
      },
      "file_extension": ".py",
      "mimetype": "text/x-python",
      "name": "python",
      "nbconvert_exporter": "python",
      "pygments_lexer": "ipython3",
      "version": "3.9.16"
    }
  },
  "nbformat": 4,
  "nbformat_minor": 0
}
